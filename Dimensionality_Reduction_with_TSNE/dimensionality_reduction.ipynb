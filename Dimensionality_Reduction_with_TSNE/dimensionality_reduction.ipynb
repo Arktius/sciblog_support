{
 "cells": [
  {
   "cell_type": "markdown",
   "metadata": {},
   "source": [
    "# Dimensionality reduction with T-SNE\n"
   ]
  },
  {
   "cell_type": "code",
   "execution_count": null,
   "metadata": {},
   "outputs": [],
   "source": [
    "import os\n",
    "import sys\n",
    "import numpy as np\n",
    "import sklearn\n",
    "import keras as K\n",
    "from keras.applications.nasnet import NASNetLarge\n",
    "from keras.applications.resnet50 import ResNet50\n",
    "import tensorflow as tf\n",
    "import kaggle\n",
    "from numba import cuda\n",
    "import t_sne_bhcuda.t_sne_bhcuda.bhtsne_cuda as tsne_bhcuda\n",
    "from utils import (plot_tsne, get_gpu_name, get_cuda_version, get_cudnn_version,\n",
    "                   find_files_with_pattern, featurize_images, clear_memory_all_gpus)\n",
    "\n",
    "print(\"System version: {}\".format(sys.version))\n",
    "print(\"Sklearn version: {}\".format(sklearn.__version__))\n",
    "print(\"Numpy version: {}\".format(np.__version__))\n",
    "print(\"Kaggle version: {}\".format(kaggle.KaggleApi.__version__))\n",
    "print(\"Keras version: {}\".format(K.__version__))\n",
    "print(\"Keras backend: {}\".format(K.backend.backend()))\n",
    "print(\"Keras image data format: {}\".format(K.backend.image_data_format()))\n",
    "print(\"Tensorflow version: {}\".format(tf.__version__))\n",
    "print(\"GPU: {}\".format(get_gpu_name()))\n",
    "print(\"CUDA version: {}\".format(get_cuda_version()))\n",
    "print(\"CuDNN version: {}\".format(get_cudnn_version()))\n",
    "\n",
    "\n",
    "# Autoreload changes in imported files\n",
    "%load_ext autoreload\n",
    "%autoreload 2\n",
    "\n",
    "# Allow multiple displays per cell\n",
    "from IPython.core.interactiveshell import InteractiveShell\n",
    "InteractiveShell.ast_node_interactivity = \"all\""
   ]
  },
  {
   "cell_type": "markdown",
   "metadata": {},
   "source": [
    "### Dataset\n",
    "\n",
    "[Dogs vs Cats](https://www.kaggle.com/c/dogs-vs-cats/data) dataset, which contains 2 classes and 25000 images.\n",
    "\n",
    "Make sure you follow the [instructions](https://github.com/Kaggle/kaggle-api#api-credentials) to get the Kaggle credentials. \n"
   ]
  },
  {
   "cell_type": "code",
   "execution_count": null,
   "metadata": {},
   "outputs": [],
   "source": [
    "!/anaconda/envs/py35/bin/kaggle competitions download -c dogs-vs-cats --force"
   ]
  },
  {
   "cell_type": "code",
   "execution_count": null,
   "metadata": {},
   "outputs": [],
   "source": [
    "!unzip -q train.zip"
   ]
  },
  {
   "cell_type": "code",
   "execution_count": null,
   "metadata": {},
   "outputs": [],
   "source": [
    "files_dog = find_files_with_pattern(\"train\", \"dog*\")\n",
    "files_dog = files_dog[:1000]\n",
    "len(files_dog)\n",
    "print(files_dog[:10])\n",
    "\n",
    "files_cat = find_files_with_pattern(\"train\", \"cat*\")\n",
    "files_cat = files_cat[:1000]\n",
    "len(files_cat)\n",
    "print(files_cat[:10])\n",
    "\n",
    "file_names = files_dog + files_cat"
   ]
  },
  {
   "cell_type": "code",
   "execution_count": null,
   "metadata": {},
   "outputs": [],
   "source": [
    "labels_dog = [0]*len(files_dog)\n",
    "labels_cat = [1]*len(files_cat)\n",
    "labels = labels_dog + labels_cat\n",
    "len(labels)"
   ]
  },
  {
   "cell_type": "markdown",
   "metadata": {},
   "source": [
    "### Image featurization"
   ]
  },
  {
   "cell_type": "code",
   "execution_count": null,
   "metadata": {},
   "outputs": [],
   "source": [
    "#https://keras.io/applications/#resnet50\n",
    "model = ResNet50(input_shape=(224, 224, 3), weights='imagenet', include_top=False, pooling='avg')"
   ]
  },
  {
   "cell_type": "code",
   "execution_count": null,
   "metadata": {},
   "outputs": [],
   "source": [
    "features = featurize_images(file_names, model)\n",
    "features.shape"
   ]
  },
  {
   "cell_type": "code",
   "execution_count": null,
   "metadata": {},
   "outputs": [],
   "source": [
    "# clear gpu memory\n",
    "clear_memory_all_gpus()\n"
   ]
  },
  {
   "cell_type": "markdown",
   "metadata": {},
   "source": [
    "### Dimensionality reduction with TSNE"
   ]
  },
  {
   "cell_type": "code",
   "execution_count": null,
   "metadata": {},
   "outputs": [],
   "source": [
    "perplexity = 10.0\n",
    "theta = 0.5\n",
    "learning_rate = 200.0\n",
    "iterations = 2000\n",
    "gpu_mem = 0.8\n",
    "files_dir='tsne_results'"
   ]
  },
  {
   "cell_type": "code",
   "execution_count": null,
   "metadata": {},
   "outputs": [],
   "source": [
    "%%time\n",
    "t_sne_result_sklearn = tsne_bhcuda.t_sne(samples=features, use_scikit=True, files_dir=files_dir,\n",
    "                        no_dims=2, perplexity=perplexity, eta=learning_rate, theta=theta,\n",
    "                        iterations=iterations, gpu_mem=gpu_mem, randseed=-1, verbose=2)"
   ]
  },
  {
   "cell_type": "code",
   "execution_count": null,
   "metadata": {},
   "outputs": [],
   "source": [
    "plot_tsne(t_sne_result_sklearn, labels)"
   ]
  },
  {
   "cell_type": "code",
   "execution_count": null,
   "metadata": {},
   "outputs": [],
   "source": [
    "%%time\n",
    "t_sne_result_gpu = tsne_bhcuda.t_sne(samples=features, use_scikit=False, files_dir=files_dir,\n",
    "                        no_dims=2, perplexity=perplexity, eta=learning_rate, theta=theta,\n",
    "                        iterations=iterations, gpu_mem=gpu_mem, randseed=-1, verbose=2)"
   ]
  },
  {
   "cell_type": "code",
   "execution_count": null,
   "metadata": {},
   "outputs": [],
   "source": [
    "plot_tsne(t_sne_result_gpu, labels)"
   ]
  },
  {
   "cell_type": "code",
   "execution_count": null,
   "metadata": {},
   "outputs": [],
   "source": [
    "!rm -rf train"
   ]
  },
  {
   "cell_type": "code",
   "execution_count": null,
   "metadata": {},
   "outputs": [],
   "source": []
  }
 ],
 "metadata": {
  "kernelspec": {
   "display_name": "Python 3",
   "language": "python",
   "name": "python3"
  },
  "language_info": {
   "codemirror_mode": {
    "name": "ipython",
    "version": 3
   },
   "file_extension": ".py",
   "mimetype": "text/x-python",
   "name": "python",
   "nbconvert_exporter": "python",
   "pygments_lexer": "ipython3",
   "version": "3.5.5"
  }
 },
 "nbformat": 4,
 "nbformat_minor": 2
}
