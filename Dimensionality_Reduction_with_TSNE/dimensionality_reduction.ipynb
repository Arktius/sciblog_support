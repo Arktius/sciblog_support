{
 "cells": [
  {
   "cell_type": "markdown",
   "metadata": {},
   "source": [
    "# Dimensionality reduction with t-SNE\n",
    "\n",
    "t-Distributed Stochastic Neighbor Embedding (t-SNE) is a technique for dimensionality reduction that is particularly well suited for the [visualization of high-dimensional datasets](https://lvdmaaten.github.io/tsne/). It was created by [van der Maaten and Hinton](https://lvdmaaten.github.io/publications/papers/JMLR_2008.pdf) in 2008. \n",
    "\n",
    "In this notebooks, we are going to show how t-SNE works using features extracted from the kaggle dataset [dogs vs cats](https://www.kaggle.com/c/dogs-vs-cats/). For extracting the features, we will use ResNet50 as featurizer. \n",
    "\n",
    "We present and compare two implementations of t-SNE: [sklearn](http://scikit-learn.org/stable/modules/generated/sklearn.manifold.TSNE.html), implemented in python and [CUDA](https://github.com/georgedimitriadis/t_sne_bhcuda), implemented by George Dimitriadis in CUDA/C++ with python wrappers.\n"
   ]
  },
  {
   "cell_type": "code",
   "execution_count": 1,
   "metadata": {},
   "outputs": [
    {
     "name": "stderr",
     "output_type": "stream",
     "text": [
      "Using TensorFlow backend.\n"
     ]
    },
    {
     "name": "stdout",
     "output_type": "stream",
     "text": [
      "System version: 3.5.5 |Anaconda custom (64-bit)| (default, May 13 2018, 21:12:35) \n",
      "[GCC 7.2.0]\n",
      "Sklearn version: 0.19.1\n",
      "Numpy version: 1.14.5\n",
      "Kaggle version: 1.5.0\n",
      "Keras version: 2.2.2\n",
      "Keras backend: tensorflow\n",
      "Keras image data format: channels_last\n",
      "Tensorflow version: 1.10.1\n",
      "GPU: ['Tesla K80']\n",
      "CUDA version: CUDA Version 9.2.148\n",
      "CuDNN version: 7.2.1\n"
     ]
    }
   ],
   "source": [
    "import os\n",
    "import sys\n",
    "import numpy as np\n",
    "import sklearn\n",
    "import keras as K\n",
    "from keras.applications.nasnet import NASNetLarge\n",
    "from keras.applications.resnet50 import ResNet50\n",
    "import tensorflow as tf\n",
    "import kaggle\n",
    "from numba import cuda\n",
    "import t_sne_bhcuda.t_sne_bhcuda.bhtsne_cuda as tsne_bhcuda\n",
    "from utils import (plot_tsne, get_gpu_name, get_cuda_version, get_cudnn_version,\n",
    "                   find_files_with_pattern, featurize_images, clear_memory_all_gpus)\n",
    "\n",
    "print(\"System version: {}\".format(sys.version))\n",
    "print(\"Sklearn version: {}\".format(sklearn.__version__))\n",
    "print(\"Numpy version: {}\".format(np.__version__))\n",
    "print(\"Kaggle version: {}\".format(kaggle.KaggleApi.__version__))\n",
    "print(\"Keras version: {}\".format(K.__version__))\n",
    "print(\"Keras backend: {}\".format(K.backend.backend()))\n",
    "print(\"Keras image data format: {}\".format(K.backend.image_data_format()))\n",
    "print(\"Tensorflow version: {}\".format(tf.__version__))\n",
    "print(\"GPU: {}\".format(get_gpu_name()))\n",
    "print(\"CUDA version: {}\".format(get_cuda_version()))\n",
    "print(\"CuDNN version: {}\".format(get_cudnn_version()))\n",
    "\n",
    "\n",
    "# Autoreload changes in imported files\n",
    "%load_ext autoreload\n",
    "%autoreload 2\n",
    "\n",
    "# Allow multiple displays per cell\n",
    "from IPython.core.interactiveshell import InteractiveShell\n",
    "InteractiveShell.ast_node_interactivity = \"all\""
   ]
  },
  {
   "cell_type": "markdown",
   "metadata": {},
   "source": [
    "### Dataset\n",
    "\n",
    "For testing the algorithm we are going to use the [Dogs vs Cats](https://www.kaggle.com/c/dogs-vs-cats/data) dataset, which contains 2 classes and 25000 images.\n",
    "\n",
    "Kaggle has a nice [api](https://github.com/Kaggle/kaggle-api) that allows one to programmatically work with their content. We can use their client to download the dataset. Make sure you follow the [instructions](https://github.com/Kaggle/kaggle-api#api-credentials) to get the Kaggle credentials. \n"
   ]
  },
  {
   "cell_type": "code",
   "execution_count": 2,
   "metadata": {},
   "outputs": [
    {
     "name": "stdout",
     "output_type": "stream",
     "text": [
      "Downloading sampleSubmission.csv to /data/home/hoaphumanoid/notebooks/repos/sciblog_support/Dimensionality_Reduction_with_TSNE\n",
      "  0%|                                               | 0.00/86.8k [00:00<?, ?B/s]\n",
      "100%|██████████████████████████████████████| 86.8k/86.8k [00:00<00:00, 2.14MB/s]\n",
      "Downloading test1.zip to /data/home/hoaphumanoid/notebooks/repos/sciblog_support/Dimensionality_Reduction_with_TSNE\n",
      " 97%|███████████████████████████████████████▊ | 263M/271M [00:01<00:00, 158MB/s]\n",
      "100%|█████████████████████████████████████████| 271M/271M [00:02<00:00, 115MB/s]\n",
      "Downloading train.zip to /data/home/hoaphumanoid/notebooks/repos/sciblog_support/Dimensionality_Reduction_with_TSNE\n",
      " 99%|███████████████████████████████████████▌| 537M/543M [00:06<00:00, 81.6MB/s]\n",
      "100%|████████████████████████████████████████| 543M/543M [00:11<00:00, 50.8MB/s]\n"
     ]
    }
   ],
   "source": [
    "!/anaconda/envs/py35/bin/kaggle competitions download -c dogs-vs-cats --force"
   ]
  },
  {
   "cell_type": "code",
   "execution_count": 3,
   "metadata": {},
   "outputs": [],
   "source": [
    "!unzip -q train.zip"
   ]
  },
  {
   "cell_type": "markdown",
   "metadata": {},
   "source": [
    "Let's take a look at the data"
   ]
  },
  {
   "cell_type": "code",
   "execution_count": 4,
   "metadata": {},
   "outputs": [
    {
     "data": {
      "text/plain": [
       "12500"
      ]
     },
     "execution_count": 4,
     "metadata": {},
     "output_type": "execute_result"
    },
    {
     "name": "stdout",
     "output_type": "stream",
     "text": [
      "['train/dog.7647.jpg', 'train/dog.4124.jpg', 'train/dog.11342.jpg', 'train/dog.7021.jpg', 'train/dog.7305.jpg', 'train/dog.1757.jpg', 'train/dog.1804.jpg', 'train/dog.8312.jpg', 'train/dog.2823.jpg', 'train/dog.1423.jpg']\n"
     ]
    },
    {
     "data": {
      "text/plain": [
       "12500"
      ]
     },
     "execution_count": 4,
     "metadata": {},
     "output_type": "execute_result"
    },
    {
     "name": "stdout",
     "output_type": "stream",
     "text": [
      "['train/cat.6586.jpg', 'train/cat.11278.jpg', 'train/cat.8459.jpg', 'train/cat.1983.jpg', 'train/cat.5735.jpg', 'train/cat.3765.jpg', 'train/cat.10067.jpg', 'train/cat.6049.jpg', 'train/cat.783.jpg', 'train/cat.8995.jpg']\n"
     ]
    }
   ],
   "source": [
    "files_dog = find_files_with_pattern(\"train\", \"dog*\")\n",
    "len(files_dog)\n",
    "print(files_dog[:10])\n",
    "\n",
    "files_cat = find_files_with_pattern(\"train\", \"cat*\")\n",
    "len(files_cat)\n",
    "print(files_cat[:10])"
   ]
  },
  {
   "cell_type": "markdown",
   "metadata": {},
   "source": [
    "Now we are going to subsumple part of the data, we don't need all the data for our experiments."
   ]
  },
  {
   "cell_type": "code",
   "execution_count": 5,
   "metadata": {},
   "outputs": [
    {
     "data": {
      "text/plain": [
       "10000"
      ]
     },
     "execution_count": 5,
     "metadata": {},
     "output_type": "execute_result"
    }
   ],
   "source": [
    "sample = 5000\n",
    "files_dog = files_dog[:sample]\n",
    "files_cat = files_cat[:sample]\n",
    "file_names = files_dog + files_cat\n",
    "len(file_names)"
   ]
  },
  {
   "cell_type": "code",
   "execution_count": 6,
   "metadata": {},
   "outputs": [
    {
     "data": {
      "text/plain": [
       "10000"
      ]
     },
     "execution_count": 6,
     "metadata": {},
     "output_type": "execute_result"
    }
   ],
   "source": [
    "labels_dog = [0]*len(files_dog)\n",
    "labels_cat = [1]*len(files_cat)\n",
    "labels = labels_dog + labels_cat\n",
    "len(labels)"
   ]
  },
  {
   "cell_type": "markdown",
   "metadata": {},
   "source": [
    "### Image featurization\n",
    "\n",
    "CNNs are great featurizers, many times used in [transfer learning](https://miguelgfierro.com/blog/2017/a-gentle-introduction-to-transfer-learning-for-image-classification/). \n",
    "\n",
    "![ResNet CNN](https://cdn.rawgit.com/miguelgfierro/sciblog_support/master/A_Gentle_Introduction_to_Transfer_Learning/img/resnet.svg)\n",
    "\n",
    "The standard strategy is to remove the last layer of the CNN to featurize the input images. In our example, we will use [ResNet](https://arxiv.org/abs/1512.03385), pretrained on [ImageNet dataset](http://image-net.org/), with 50 layers. For this case, the input image is a matrix of `224x224x3` (height, weigth, color channels), and the output is a vector of 2048 floats, corresponding to the number of units of the penultimate layer. This vector is a very good low level representation of the original image."
   ]
  },
  {
   "cell_type": "code",
   "execution_count": 7,
   "metadata": {},
   "outputs": [],
   "source": [
    "#https://keras.io/applications/#resnet50\n",
    "model = ResNet50(input_shape=(224, 224, 3), weights='imagenet', include_top=False, pooling='avg')"
   ]
  },
  {
   "cell_type": "code",
   "execution_count": 8,
   "metadata": {},
   "outputs": [
    {
     "name": "stderr",
     "output_type": "stream",
     "text": [
      "157it [01:51,  1.56it/s]\n"
     ]
    },
    {
     "data": {
      "text/plain": [
       "(10000, 2048)"
      ]
     },
     "execution_count": 8,
     "metadata": {},
     "output_type": "execute_result"
    }
   ],
   "source": [
    "features = featurize_images(file_names, model)\n",
    "features.shape"
   ]
  },
  {
   "cell_type": "code",
   "execution_count": 9,
   "metadata": {},
   "outputs": [],
   "source": [
    "# clear gpu memory\n",
    "del model\n",
    "clear_memory_all_gpus()"
   ]
  },
  {
   "cell_type": "markdown",
   "metadata": {},
   "source": [
    "### Dimensionality reduction with TSNE"
   ]
  },
  {
   "cell_type": "code",
   "execution_count": 10,
   "metadata": {},
   "outputs": [],
   "source": [
    "perplexity = 10.0\n",
    "theta = 0.5\n",
    "learning_rate = 200.0\n",
    "iterations = 2000\n",
    "gpu_mem = 0.95\n",
    "files_dir='tsne_results'"
   ]
  },
  {
   "cell_type": "code",
   "execution_count": 11,
   "metadata": {},
   "outputs": [
    {
     "name": "stdout",
     "output_type": "stream",
     "text": [
      "[t-SNE] Computing 31 nearest neighbors...\n",
      "[t-SNE] Indexed 10000 samples in 1.394s...\n",
      "[t-SNE] Computed neighbors for 10000 samples in 385.605s...\n",
      "[t-SNE] Computed conditional probabilities for sample 1000 / 10000\n",
      "[t-SNE] Computed conditional probabilities for sample 2000 / 10000\n",
      "[t-SNE] Computed conditional probabilities for sample 3000 / 10000\n",
      "[t-SNE] Computed conditional probabilities for sample 4000 / 10000\n",
      "[t-SNE] Computed conditional probabilities for sample 5000 / 10000\n",
      "[t-SNE] Computed conditional probabilities for sample 6000 / 10000\n",
      "[t-SNE] Computed conditional probabilities for sample 7000 / 10000\n",
      "[t-SNE] Computed conditional probabilities for sample 8000 / 10000\n",
      "[t-SNE] Computed conditional probabilities for sample 9000 / 10000\n",
      "[t-SNE] Computed conditional probabilities for sample 10000 / 10000\n",
      "[t-SNE] Mean sigma: 5.098726\n",
      "[t-SNE] Computed conditional probabilities in 0.778s\n",
      "[t-SNE] Iteration 50: error = 28.0392838, gradient norm = 0.0114708 (50 iterations in 10.638s)\n",
      "[t-SNE] Iteration 100: error = 26.1302757, gradient norm = 0.0009056 (50 iterations in 9.236s)\n",
      "[t-SNE] Iteration 150: error = 25.9007378, gradient norm = 0.0004630 (50 iterations in 9.683s)\n",
      "[t-SNE] Iteration 200: error = 25.8090897, gradient norm = 0.0002781 (50 iterations in 10.001s)\n",
      "[t-SNE] Iteration 250: error = 25.7624283, gradient norm = 0.0002166 (50 iterations in 10.213s)\n",
      "[t-SNE] KL divergence after 250 iterations with early exaggeration: 25.762428\n",
      "[t-SNE] Iteration 300: error = 4.1122704, gradient norm = 0.0011002 (50 iterations in 9.402s)\n",
      "[t-SNE] Iteration 350: error = 3.7015934, gradient norm = 0.0005476 (50 iterations in 7.869s)\n",
      "[t-SNE] Iteration 400: error = 3.4815254, gradient norm = 0.0003470 (50 iterations in 7.693s)\n",
      "[t-SNE] Iteration 450: error = 3.3416643, gradient norm = 0.0002549 (50 iterations in 7.725s)\n",
      "[t-SNE] Iteration 500: error = 3.2447689, gradient norm = 0.0002009 (50 iterations in 7.716s)\n",
      "[t-SNE] Iteration 550: error = 3.1734884, gradient norm = 0.0001640 (50 iterations in 7.710s)\n",
      "[t-SNE] Iteration 600: error = 3.1190398, gradient norm = 0.0001412 (50 iterations in 7.592s)\n",
      "[t-SNE] Iteration 650: error = 3.0761709, gradient norm = 0.0001238 (50 iterations in 7.690s)\n",
      "[t-SNE] Iteration 700: error = 3.0417485, gradient norm = 0.0001095 (50 iterations in 7.791s)\n",
      "[t-SNE] Iteration 750: error = 3.0136626, gradient norm = 0.0000976 (50 iterations in 7.705s)\n",
      "[t-SNE] Iteration 800: error = 2.9905858, gradient norm = 0.0000891 (50 iterations in 7.798s)\n",
      "[t-SNE] Iteration 850: error = 2.9711273, gradient norm = 0.0000824 (50 iterations in 7.780s)\n",
      "[t-SNE] Iteration 900: error = 2.9549465, gradient norm = 0.0000755 (50 iterations in 7.875s)\n",
      "[t-SNE] Iteration 950: error = 2.9412336, gradient norm = 0.0000693 (50 iterations in 7.860s)\n",
      "[t-SNE] Iteration 1000: error = 2.9293153, gradient norm = 0.0000664 (50 iterations in 7.926s)\n",
      "[t-SNE] Iteration 1050: error = 2.9189708, gradient norm = 0.0000623 (50 iterations in 7.956s)\n",
      "[t-SNE] Iteration 1100: error = 2.9100015, gradient norm = 0.0000599 (50 iterations in 7.938s)\n",
      "[t-SNE] Iteration 1150: error = 2.9022987, gradient norm = 0.0000566 (50 iterations in 8.057s)\n",
      "[t-SNE] Iteration 1200: error = 2.8956285, gradient norm = 0.0000540 (50 iterations in 8.046s)\n",
      "[t-SNE] Iteration 1250: error = 2.8896325, gradient norm = 0.0000521 (50 iterations in 8.038s)\n",
      "[t-SNE] Iteration 1300: error = 2.8843603, gradient norm = 0.0000509 (50 iterations in 8.021s)\n",
      "[t-SNE] Iteration 1350: error = 2.8797536, gradient norm = 0.0000492 (50 iterations in 8.051s)\n",
      "[t-SNE] Iteration 1400: error = 2.8754237, gradient norm = 0.0000471 (50 iterations in 8.054s)\n",
      "[t-SNE] Iteration 1450: error = 2.8716335, gradient norm = 0.0000468 (50 iterations in 8.110s)\n",
      "[t-SNE] Iteration 1500: error = 2.8681257, gradient norm = 0.0000451 (50 iterations in 8.126s)\n",
      "[t-SNE] Iteration 1550: error = 2.8650472, gradient norm = 0.0000441 (50 iterations in 8.137s)\n",
      "[t-SNE] Iteration 1600: error = 2.8620999, gradient norm = 0.0000443 (50 iterations in 8.105s)\n",
      "[t-SNE] Iteration 1650: error = 2.8593438, gradient norm = 0.0000429 (50 iterations in 8.166s)\n",
      "[t-SNE] Iteration 1700: error = 2.8570142, gradient norm = 0.0000417 (50 iterations in 8.179s)\n",
      "[t-SNE] Iteration 1750: error = 2.8548403, gradient norm = 0.0000411 (50 iterations in 8.226s)\n",
      "[t-SNE] Iteration 1800: error = 2.8527489, gradient norm = 0.0000403 (50 iterations in 8.275s)\n",
      "[t-SNE] Iteration 1850: error = 2.8507235, gradient norm = 0.0000394 (50 iterations in 8.313s)\n",
      "[t-SNE] Iteration 1900: error = 2.8487117, gradient norm = 0.0000385 (50 iterations in 8.285s)\n",
      "[t-SNE] Iteration 1950: error = 2.8468652, gradient norm = 0.0000393 (50 iterations in 8.306s)\n",
      "[t-SNE] Iteration 2000: error = 2.8451552, gradient norm = 0.0000375 (50 iterations in 8.484s)\n",
      "[t-SNE] Error after 2000 iterations: 2.845155\n",
      "CPU times: user 21min 16s, sys: 1min 40s, total: 22min 56s\n",
      "Wall time: 11min 58s\n"
     ]
    }
   ],
   "source": [
    "%%time\n",
    "t_sne_result_sklearn = tsne_bhcuda.t_sne(samples=features, use_scikit=True, files_dir=files_dir,\n",
    "                        no_dims=2, perplexity=perplexity, eta=learning_rate, theta=theta,\n",
    "                        iterations=iterations, gpu_mem=gpu_mem, randseed=-1, verbose=2)"
   ]
  },
  {
   "cell_type": "code",
   "execution_count": 12,
   "metadata": {},
   "outputs": [
    {
     "data": {
      "image/png": "[encoded data removed]",
      "text/plain": [
       "<Figure size 432x288 with 1 Axes>"
      ]
     },
     "metadata": {},
     "output_type": "display_data"
    }
   ],
   "source": [
    "plot_tsne(t_sne_result_sklearn, labels)"
   ]
  },
  {
   "cell_type": "code",
   "execution_count": 13,
   "metadata": {},
   "outputs": [
    {
     "name": "stdout",
     "output_type": "stream",
     "text": [
      "Read the 10000 x 2048 data matrix successfully!\n",
      "Using current time as random seed...\n",
      "Using no_dims = 2, perplexity = 10.000000, learning rate = 200.000000, and theta = 0.500000\n",
      "Computing input similarities...\n",
      "\n",
      "Device Name = Tesla K80\n",
      "multiProcessorCount: 13\n",
      "totalGlobalMem (in MB): 11441.187500\n",
      "totalGlobalMem (in GB): 11.173035\n",
      "sharedMemPerBlock (in bytes): 49152\n",
      "Maximum number of threads per block: 1024\n",
      "Maximum size of each dimension of a block: 1024 x 1024 x 64\n",
      "Maximum sizes of each dimension of a grid: 2147483647 x 65535 x 65535\n",
      "Compute capability of the device = 3.7\n",
      "canMapHostMemory: TRUE\n",
      "deviceOverlap: TRUE\n",
      "GPU memory usage: used = 71.000000 MB, free = 11370.187500 MB, total = 11441.187500 MB\n",
      "\n",
      "GPU iteration = 0, distance elements calculated = 100000000\n",
      "GPU memory usage: used = 608.750000 MB, free = 10832.437500 MB, total = 11441.187500 MB\n",
      "Time spent in calculating all distances in GPU: 6.620769\n",
      "Building tree...\n",
      " - Building tree and finding perplexities, point 0 of 10000\n",
      "Time spent building tree and finding perplexities: 12.184324\n",
      "Input similarities computed in 25.77 seconds (sparsity = 0.005342)\n",
      "\n",
      "Learning embedding...\n",
      "Iteration 50: error is 106.452614 (50 iterations in 11.51 seconds)\n",
      "Iteration 100: error is 106.449776 (50 iterations in 10.83 seconds)\n",
      "Iteration 150: error is 100.836454 (50 iterations in 8.68 seconds)\n",
      "Iteration 200: error is 100.003065 (50 iterations in 8.35 seconds)\n",
      "Iteration 250: error is 5.838570 (50 iterations in 8.39 seconds)\n",
      "Iteration 300: error is 4.467886 (50 iterations in 7.54 seconds)\n",
      "Iteration 350: error is 4.150517 (50 iterations in 7.27 seconds)\n",
      "Iteration 400: error is 3.969379 (50 iterations in 7.24 seconds)\n",
      "Iteration 450: error is 3.842630 (50 iterations in 7.23 seconds)\n",
      "Iteration 500: error is 3.745887 (50 iterations in 7.32 seconds)\n",
      "Iteration 550: error is 3.668256 (50 iterations in 7.45 seconds)\n",
      "Iteration 600: error is 3.603497 (50 iterations in 7.64 seconds)\n",
      "Iteration 650: error is 3.548451 (50 iterations in 7.61 seconds)\n",
      "Iteration 700: error is 3.500632 (50 iterations in 7.39 seconds)\n",
      "Iteration 750: error is 3.458846 (50 iterations in 7.42 seconds)\n",
      "Iteration 800: error is 3.421532 (50 iterations in 7.41 seconds)\n",
      "Iteration 850: error is 3.388273 (50 iterations in 7.63 seconds)\n",
      "Iteration 900: error is 3.358717 (50 iterations in 7.68 seconds)\n",
      "Iteration 950: error is 3.331309 (50 iterations in 7.61 seconds)\n",
      "Iteration 1000: error is 3.305975 (50 iterations in 7.62 seconds)\n",
      "Iteration 1050: error is 3.282661 (50 iterations in 7.69 seconds)\n",
      "Iteration 1100: error is 3.261087 (50 iterations in 7.83 seconds)\n",
      "Iteration 1150: error is 3.241286 (50 iterations in 8.06 seconds)\n",
      "Iteration 1200: error is 3.222943 (50 iterations in 7.78 seconds)\n",
      "Iteration 1250: error is 3.205908 (50 iterations in 7.85 seconds)\n",
      "Iteration 1300: error is 3.190477 (50 iterations in 7.76 seconds)\n",
      "Iteration 1350: error is 3.176195 (50 iterations in 7.70 seconds)\n",
      "Iteration 1400: error is 3.163357 (50 iterations in 7.85 seconds)\n",
      "Iteration 1450: error is 3.151786 (50 iterations in 7.87 seconds)\n",
      "Iteration 1500: error is 3.141570 (50 iterations in 7.90 seconds)\n",
      "Iteration 1550: error is 3.132692 (50 iterations in 7.84 seconds)\n",
      "Iteration 1600: error is 3.124807 (50 iterations in 7.83 seconds)\n",
      "Iteration 1650: error is 3.116538 (50 iterations in 7.92 seconds)\n",
      "Iteration 1700: error is 3.109672 (50 iterations in 7.82 seconds)\n",
      "Iteration 1750: error is 3.104113 (50 iterations in 8.01 seconds)\n",
      "Iteration 1800: error is 3.098898 (50 iterations in 7.94 seconds)\n",
      "Iteration 1850: error is 3.093505 (50 iterations in 7.98 seconds)\n",
      "Iteration 1900: error is 3.087863 (50 iterations in 7.87 seconds)\n",
      "Iteration 1950: error is 3.082597 (50 iterations in 7.97 seconds)\n",
      "Iteration 1999: error is 3.078242 (50 iterations in 7.92 seconds)\n",
      "Fitting performed in 317.22 seconds.\n",
      "Wrote the 10000 x 2 data matrix successfully!\n",
      "\n",
      "T-sne required 352.229645 seconds (5.870494 minutes) to run\n",
      "TSNE return code: 0\n",
      "CPU times: user 1.59 s, sys: 368 ms, total: 1.96 s\n",
      "Wall time: 5min 53s\n"
     ]
    }
   ],
   "source": [
    "%%time\n",
    "t_sne_result_gpu = tsne_bhcuda.t_sne(samples=features, use_scikit=False, files_dir=files_dir,\n",
    "                        no_dims=2, perplexity=perplexity, eta=learning_rate, theta=theta,\n",
    "                        iterations=iterations, gpu_mem=gpu_mem, randseed=-1, verbose=2)"
   ]
  },
  {
   "cell_type": "code",
   "execution_count": 14,
   "metadata": {},
   "outputs": [
    {
     "data": {
      "image/png": "[encoded data removed]",
      "text/plain": [
       "<Figure size 432x288 with 1 Axes>"
      ]
     },
     "metadata": {},
     "output_type": "display_data"
    }
   ],
   "source": [
    "plot_tsne(t_sne_result_gpu, labels)"
   ]
  },
  {
   "cell_type": "code",
   "execution_count": 15,
   "metadata": {},
   "outputs": [],
   "source": [
    "!rm -rf train"
   ]
  },
  {
   "cell_type": "code",
   "execution_count": null,
   "metadata": {},
   "outputs": [],
   "source": []
  }
 ],
 "metadata": {
  "kernelspec": {
   "display_name": "Python 3",
   "language": "python",
   "name": "python3"
  },
  "language_info": {
   "codemirror_mode": {
    "name": "ipython",
    "version": 3
   },
   "file_extension": ".py",
   "mimetype": "text/x-python",
   "name": "python",
   "nbconvert_exporter": "python",
   "pygments_lexer": "ipython3",
   "version": "3.5.5"
  }
 },
 "nbformat": 4,
 "nbformat_minor": 2
}
