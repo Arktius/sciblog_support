{
 "cells": [
  {
   "cell_type": "code",
   "execution_count": 1,
   "metadata": {},
   "outputs": [
    {
     "name": "stdout",
     "output_type": "stream",
     "text": [
      "System version: 3.6.7 |Anaconda, Inc.| (default, Oct 23 2018, 19:16:44) \n",
      "[GCC 7.3.0]\n",
      "Numpy version: 1.15.4\n",
      "Pandas version: 0.23.4\n",
      "Numexpr version: 2.6.9\n"
     ]
    }
   ],
   "source": [
    "import sys\n",
    "import os\n",
    "import numpy as np\n",
    "import numexpr as ne\n",
    "from numba import vectorize\n",
    "import math\n",
    "import pandas as pd\n",
    "import bokeh\n",
    "from utils import (get_number_processors, get_ram_memory, get_total_gpu_memory, \n",
    "                   get_gpu_name, get_cuda_version, get_cudnn_version)\n",
    "\n",
    "print(\"System version: {}\".format(sys.version))\n",
    "print(\"Numpy version: {}\".format(np.__version__))\n",
    "print(\"Pandas version: {}\".format(pd.__version__))\n",
    "print(\"Numexpr version: {}\".format(ne.__version__))\n",
    "\n",
    "\n",
    "%load_ext autoreload\n",
    "%autoreload 2"
   ]
  },
  {
   "cell_type": "markdown",
   "metadata": {},
   "source": [
    "## Helper function with numpy"
   ]
  },
  {
   "cell_type": "code",
   "execution_count": 2,
   "metadata": {},
   "outputs": [],
   "source": [
    "def multiply(a,b):\n",
    "    return a*b\n",
    "\n",
    "def exponential(a, b):\n",
    "    return a * np.exp(b)\n",
    "\n",
    "def sine(a, b):\n",
    "    return a * np.sin(b)"
   ]
  },
  {
   "cell_type": "markdown",
   "metadata": {},
   "source": [
    "## Helper function with numpexp"
   ]
  },
  {
   "cell_type": "code",
   "execution_count": 3,
   "metadata": {},
   "outputs": [],
   "source": [
    "def ne_multiply(a,b):\n",
    "    return ne.evaluate(\"a*b\")\n",
    "\n",
    "def ne_exponential(a, b):\n",
    "    return ne.evaluate(\"a*exp(b)\")\n",
    "\n",
    "def ne_sine(a, b):\n",
    "    return ne.evaluate(\"a*sin(b)\")"
   ]
  },
  {
   "cell_type": "markdown",
   "metadata": {},
   "source": [
    "## Helper functions for numba\n",
    "NOTE: For numba solutions, having a solution empty vector speeds up around 10%\n",
    "```\n",
    "r0 = np.empty((S1, S2), dtype=np.int16)\n",
    "r0 = multicpu(a, b)\n",
    "```\n",
    "source: https://devblogs.nvidia.com/numba-python-cuda-acceleration/"
   ]
  },
  {
   "cell_type": "code",
   "execution_count": 4,
   "metadata": {},
   "outputs": [],
   "source": [
    "@vectorize([\"int16(int16, int16)\"], target=\"cpu\")\n",
    "def multicpu(a, b):\n",
    "    return a * b\n",
    "\n",
    "@vectorize([\"int16(int16, int16)\"], target=\"cuda\")\n",
    "def multicuda(a, b):\n",
    "    return a * b\n",
    "\n",
    "@vectorize([\"float32(float32, float32)\"], target=\"cpu\")\n",
    "def multfcpu(a, b):\n",
    "    return a * b\n",
    "\n",
    "@vectorize([\"float32(float32, float32)\"], target=\"cuda\")\n",
    "def multfcuda(a, b):\n",
    "    return a * b\n",
    "\n",
    "@vectorize([\"float32(float32, float32)\"], target=\"cpu\")\n",
    "def expcpu(a, b):\n",
    "    return a*math.exp(b)\n",
    "\n",
    "@vectorize([\"float32(float32, float32)\"], target=\"cuda\")\n",
    "def expcuda(a, b):\n",
    "    return a*math.exp(b)\n",
    "\n",
    "@vectorize([\"float32(float32, float32)\"], target=\"cpu\")\n",
    "def sincpu(a, b):\n",
    "    return a*math.sin(b)\n",
    "\n",
    "@vectorize([\"float32(float32, float32)\"], target=\"cuda\")\n",
    "def sincuda(a, b):\n",
    "    return a*math.sin(b)"
   ]
  },
  {
   "cell_type": "markdown",
   "metadata": {},
   "source": [
    "## Data"
   ]
  },
  {
   "cell_type": "code",
   "execution_count": null,
   "metadata": {},
   "outputs": [],
   "source": [
    "def factors_int(S1=100, S2=100):\n",
    "    a = np.random.randint(1, 5, (S1, S2), dtype=np.int16)\n",
    "    b = np.random.randint(1, 10, (S1, S2), dtype=np.int16)\n",
    "    return a, b\n",
    "\n",
    "def factors_float(S1=100, S2=100):\n",
    "    a = np.random.randn(S1, S2).astype(np.float32)\n",
    "    b = np.random.randn(S1, S2).astype(np.float32)\n",
    "    return a, b"
   ]
  },
  {
   "cell_type": "markdown",
   "metadata": {},
   "source": [
    "## Benchmark"
   ]
  },
  {
   "cell_type": "code",
   "execution_count": null,
   "metadata": {},
   "outputs": [],
   "source": [
    "size_combinations=[\n",
    "    (100, 100),\n",
    "    (1000, 1000),\n",
    "    (10000, 10000),\n",
    "    (100000, 10000),\n",
    "#    (100000, 100000)\n",
    "]"
   ]
  },
  {
   "cell_type": "code",
   "execution_count": null,
   "metadata": {},
   "outputs": [],
   "source": [
    "columns = [\"n_processors\",\n",
    "           \"cpu_memory\",\n",
    "           \"gpu_name\",\n",
    "           \"gpu_memory\",\n",
    "           \"data_type\",\n",
    "           \"size1\",\n",
    "           \"size2\",\n",
    "           \"operation\",\n",
    "           \"numpy\",\n",
    "           \"numexpr\",\n",
    "           \"numba_cpu\",\n",
    "           \"numba_gpu\"]\n",
    "df = pd.DataFrame(columns=columns)\n"
   ]
  },
  {
   "cell_type": "code",
   "execution_count": null,
   "metadata": {},
   "outputs": [],
   "source": [
    "n_processors = get_number_processors()\n",
    "cpu_memory = get_ram_memory(units=\"Gb\")\n",
    "gpu_name = get_gpu_name()[0]\n",
    "gpu_memory = get_total_gpu_memory(units=\"Gb\")[0]\n",
    "header = [n_processors, cpu_memory, gpu_name, gpu_memory]"
   ]
  },
  {
   "cell_type": "markdown",
   "metadata": {},
   "source": [
    "#### Integer matrix multiplication"
   ]
  },
  {
   "cell_type": "code",
   "execution_count": null,
   "metadata": {
    "scrolled": true
   },
   "outputs": [
    {
     "name": "stdout",
     "output_type": "stream",
     "text": [
      "2.15 µs ± 14.4 ns per loop (mean ± std. dev. of 7 runs, 100000 loops each)\n",
      "478 µs ± 37.6 µs per loop (mean ± std. dev. of 7 runs, 1000 loops each)\n",
      "1.96 µs ± 4.25 ns per loop (mean ± std. dev. of 7 runs, 1000000 loops each)\n",
      "1.4 ms ± 9.38 µs per loop (mean ± std. dev. of 7 runs, 1000 loops each)\n",
      "209 µs ± 2.01 µs per loop (mean ± std. dev. of 7 runs, 1000 loops each)\n",
      "586 µs ± 20.3 µs per loop (mean ± std. dev. of 7 runs, 1000 loops each)\n",
      "213 µs ± 2.9 µs per loop (mean ± std. dev. of 7 runs, 1000 loops each)\n",
      "4.16 ms ± 67.5 µs per loop (mean ± std. dev. of 7 runs, 100 loops each)\n",
      "88 ms ± 475 µs per loop (mean ± std. dev. of 7 runs, 10 loops each)\n",
      "21.1 ms ± 183 µs per loop (mean ± std. dev. of 7 runs, 10 loops each)\n",
      "90.6 ms ± 147 µs per loop (mean ± std. dev. of 7 runs, 10 loops each)\n",
      "137 ms ± 2.21 ms per loop (mean ± std. dev. of 7 runs, 10 loops each)\n",
      "892 ms ± 8.74 ms per loop (mean ± std. dev. of 7 runs, 1 loop each)\n",
      "155 ms ± 2.76 ms per loop (mean ± std. dev. of 7 runs, 10 loops each)\n",
      "940 ms ± 20.9 ms per loop (mean ± std. dev. of 7 runs, 1 loop each)\n",
      "1.34 s ± 61 ms per loop (mean ± std. dev. of 7 runs, 1 loop each)\n"
     ]
    }
   ],
   "source": [
    "for S1, S2 in size_combinations:\n",
    "    a, b = factors_int(S1, S2)\n",
    "    operation = \"a * b\"\n",
    "    r1 = %timeit -o multiply(a,b)\n",
    "    r2 = %timeit -o ne_multiply(a,b)\n",
    "    r3 = %timeit -o multicpu(a,b)\n",
    "    r4 = %timeit -o multicuda(a,b)\n",
    "    row = header + [type(a[0,0]), S1, S2, operation, r1.average, r2.average, r3.average, r4.average]\n",
    "    df.loc[len(df)] = row\n"
   ]
  },
  {
   "cell_type": "markdown",
   "metadata": {},
   "source": [
    "#### Float matrix multiplication"
   ]
  },
  {
   "cell_type": "code",
   "execution_count": null,
   "metadata": {},
   "outputs": [
    {
     "name": "stdout",
     "output_type": "stream",
     "text": [
      "3.06 µs ± 13.1 ns per loop (mean ± std. dev. of 7 runs, 100000 loops each)\n",
      "460 µs ± 14 µs per loop (mean ± std. dev. of 7 runs, 1000 loops each)\n",
      "3.14 µs ± 35.3 ns per loop (mean ± std. dev. of 7 runs, 100000 loops each)\n",
      "1.4 ms ± 7.32 µs per loop (mean ± std. dev. of 7 runs, 1000 loops each)\n",
      "41.3 µs ± 1.53 µs per loop (mean ± std. dev. of 7 runs, 10000 loops each)\n",
      "577 µs ± 32.7 µs per loop (mean ± std. dev. of 7 runs, 1000 loops each)\n",
      "423 µs ± 1.4 µs per loop (mean ± std. dev. of 7 runs, 1000 loops each)\n",
      "4.71 ms ± 64.4 µs per loop (mean ± std. dev. of 7 runs, 100 loops each)\n",
      "21.4 ms ± 1.3 ms per loop (mean ± std. dev. of 7 runs, 10 loops each)\n",
      "30.5 ms ± 367 µs per loop (mean ± std. dev. of 7 runs, 10 loops each)\n",
      "177 ms ± 2.98 ms per loop (mean ± std. dev. of 7 runs, 10 loops each)\n",
      "258 ms ± 37.6 ms per loop (mean ± std. dev. of 7 runs, 1 loop each)\n",
      "242 ms ± 21.2 ms per loop (mean ± std. dev. of 7 runs, 1 loop each)\n",
      "267 ms ± 6.05 ms per loop (mean ± std. dev. of 7 runs, 1 loop each)\n",
      "1.76 s ± 10.2 ms per loop (mean ± std. dev. of 7 runs, 1 loop each)\n",
      "2.63 s ± 44.2 ms per loop (mean ± std. dev. of 7 runs, 1 loop each)\n"
     ]
    }
   ],
   "source": [
    "for S1, S2 in size_combinations:\n",
    "    a, b = factors_float(S1, S2)\n",
    "    operation = \"a * b\"\n",
    "    r1 = %timeit -o multiply(a,b)\n",
    "    r2 = %timeit -o ne_multiply(a,b)\n",
    "    r3 = %timeit -o multfcpu(a,b)\n",
    "    r4 = %timeit -o multfcuda(a,b)\n",
    "    row = header + [type(a[0,0]), S1, S2, operation, r1.average, r2.average, r3.average, r4.average]\n",
    "    df.loc[len(df)] = row"
   ]
  },
  {
   "cell_type": "markdown",
   "metadata": {},
   "source": [
    "#### Exponential matrix multiplication"
   ]
  },
  {
   "cell_type": "code",
   "execution_count": null,
   "metadata": {},
   "outputs": [
    {
     "name": "stdout",
     "output_type": "stream",
     "text": [
      "3.44 µs ± 25.2 ns per loop (mean ± std. dev. of 7 runs, 100000 loops each)\n",
      "483 µs ± 21.4 µs per loop (mean ± std. dev. of 7 runs, 1000 loops each)\n",
      "3.1 µs ± 10.3 ns per loop (mean ± std. dev. of 7 runs, 100000 loops each)\n",
      "1.43 ms ± 9.07 µs per loop (mean ± std. dev. of 7 runs, 1000 loops each)\n",
      "41.4 µs ± 534 ns per loop (mean ± std. dev. of 7 runs, 10000 loops each)\n",
      "566 µs ± 38.3 µs per loop (mean ± std. dev. of 7 runs, 1000 loops each)\n",
      "424 µs ± 2.14 µs per loop (mean ± std. dev. of 7 runs, 1000 loops each)\n",
      "4.78 ms ± 13 µs per loop (mean ± std. dev. of 7 runs, 100 loops each)\n",
      "22.2 ms ± 1.22 ms per loop (mean ± std. dev. of 7 runs, 10 loops each)\n",
      "28.7 ms ± 417 µs per loop (mean ± std. dev. of 7 runs, 10 loops each)\n",
      "183 ms ± 5.6 ms per loop (mean ± std. dev. of 7 runs, 10 loops each)\n",
      "260 ms ± 36.3 ms per loop (mean ± std. dev. of 7 runs, 1 loop each)\n",
      "225 ms ± 7.41 ms per loop (mean ± std. dev. of 7 runs, 1 loop each)\n",
      "267 ms ± 8.78 ms per loop (mean ± std. dev. of 7 runs, 1 loop each)\n",
      "1.77 s ± 3.67 ms per loop (mean ± std. dev. of 7 runs, 1 loop each)\n",
      "2.64 s ± 49.3 ms per loop (mean ± std. dev. of 7 runs, 1 loop each)\n"
     ]
    }
   ],
   "source": [
    "for S1, S2 in size_combinations:\n",
    "    a, b = factors_float(S1, S2)\n",
    "    operation = \"a * exp(b)\"\n",
    "    r1 = %timeit -o multiply(a,b)\n",
    "    r2 = %timeit -o ne_multiply(a,b)\n",
    "    r3 = %timeit -o multfcpu(a,b)\n",
    "    r4 = %timeit -o multfcuda(a,b)\n",
    "    row = header + [type(a[0,0]), S1, S2, operation, r1.average, r2.average, r3.average, r4.average]\n",
    "    df.loc[len(df)] = row"
   ]
  },
  {
   "cell_type": "markdown",
   "metadata": {},
   "source": [
    "#### Sine matrix multiplication"
   ]
  },
  {
   "cell_type": "code",
   "execution_count": null,
   "metadata": {},
   "outputs": [
    {
     "name": "stdout",
     "output_type": "stream",
     "text": [
      "3.05 µs ± 9.83 ns per loop (mean ± std. dev. of 7 runs, 100000 loops each)\n",
      "470 µs ± 15.2 µs per loop (mean ± std. dev. of 7 runs, 1000 loops each)\n",
      "3.2 µs ± 17.6 ns per loop (mean ± std. dev. of 7 runs, 100000 loops each)\n",
      "1.42 ms ± 3.37 µs per loop (mean ± std. dev. of 7 runs, 1000 loops each)\n",
      "40.7 µs ± 849 ns per loop (mean ± std. dev. of 7 runs, 10000 loops each)\n",
      "563 µs ± 11 µs per loop (mean ± std. dev. of 7 runs, 1000 loops each)\n",
      "424 µs ± 4.68 µs per loop (mean ± std. dev. of 7 runs, 1000 loops each)\n",
      "4.77 ms ± 77.4 µs per loop (mean ± std. dev. of 7 runs, 100 loops each)\n",
      "20.8 ms ± 2.31 ms per loop (mean ± std. dev. of 7 runs, 10 loops each)\n",
      "29.2 ms ± 456 µs per loop (mean ± std. dev. of 7 runs, 10 loops each)\n",
      "190 ms ± 1.48 ms per loop (mean ± std. dev. of 7 runs, 10 loops each)\n",
      "268 ms ± 35.2 ms per loop (mean ± std. dev. of 7 runs, 1 loop each)\n",
      "226 ms ± 8.91 ms per loop (mean ± std. dev. of 7 runs, 1 loop each)\n",
      "285 ms ± 5.97 ms per loop (mean ± std. dev. of 7 runs, 1 loop each)\n",
      "1.76 s ± 15.8 ms per loop (mean ± std. dev. of 7 runs, 1 loop each)\n"
     ]
    }
   ],
   "source": [
    "for S1, S2 in size_combinations:\n",
    "    a, b = factors_float(S1, S2)\n",
    "    operation = \"a * sin(b)\"\n",
    "    r1 = %timeit -o multiply(a,b)\n",
    "    r2 = %timeit -o ne_multiply(a,b)\n",
    "    r3 = %timeit -o multfcpu(a,b)\n",
    "    r4 = %timeit -o multfcuda(a,b)\n",
    "    row = header + [type(a[0,0]), S1, S2, operation, r1.average, r2.average, r3.average, r4.average]\n",
    "    df.loc[len(df)] = row"
   ]
  },
  {
   "cell_type": "code",
   "execution_count": null,
   "metadata": {},
   "outputs": [],
   "source": [
    "df"
   ]
  },
  {
   "cell_type": "code",
   "execution_count": null,
   "metadata": {},
   "outputs": [],
   "source": []
  }
 ],
 "metadata": {
  "kernelspec": {
   "display_name": "Python (benchmark)",
   "language": "python",
   "name": "benchmark"
  },
  "language_info": {
   "codemirror_mode": {
    "name": "ipython",
    "version": 3
   },
   "file_extension": ".py",
   "mimetype": "text/x-python",
   "name": "python",
   "nbconvert_exporter": "python",
   "pygments_lexer": "ipython3",
   "version": "3.6.7"
  }
 },
 "nbformat": 4,
 "nbformat_minor": 2
}
