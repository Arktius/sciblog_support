{
 "cells": [
  {
   "cell_type": "markdown",
   "metadata": {},
   "source": [
    "# Benchmark of Matrix Multiplications\n",
    "On this benchmark we compare several operations using numpy, numexpr and numba (CPU&GPU)."
   ]
  },
  {
   "cell_type": "code",
   "execution_count": 20,
   "metadata": {},
   "outputs": [
    {
     "name": "stdout",
     "output_type": "stream",
     "text": [
      "System version: 3.6.7 |Anaconda, Inc.| (default, Oct 23 2018, 19:16:44) \n",
      "[GCC 7.3.0]\n",
      "Numpy version: 1.15.4\n",
      "Pandas version: 0.23.4\n",
      "Numexpr version: 2.6.9\n",
      "The autoreload extension is already loaded. To reload it, use:\n",
      "  %reload_ext autoreload\n"
     ]
    }
   ],
   "source": [
    "import sys\n",
    "import os\n",
    "import numpy as np\n",
    "import numexpr as ne\n",
    "from numba import vectorize\n",
    "import math\n",
    "from functools import reduce\n",
    "import pandas as pd\n",
    "import bokeh\n",
    "from utils import (get_number_processors, get_ram_memory, get_total_gpu_memory, \n",
    "                   get_gpu_name, get_cuda_version, get_cudnn_version, AttributeDict)\n",
    "\n",
    "print(\"System version: {}\".format(sys.version))\n",
    "print(\"Numpy version: {}\".format(np.__version__))\n",
    "print(\"Pandas version: {}\".format(pd.__version__))\n",
    "print(\"Numexpr version: {}\".format(ne.__version__))\n",
    "\n",
    "\n",
    "%load_ext autoreload\n",
    "%autoreload 2"
   ]
  },
  {
   "cell_type": "markdown",
   "metadata": {},
   "source": [
    "## Helper function with numpy"
   ]
  },
  {
   "cell_type": "code",
   "execution_count": 29,
   "metadata": {},
   "outputs": [],
   "source": [
    "def multiply(a,b):\n",
    "    return a*b\n",
    "\n",
    "def exponential(a, b):\n",
    "    return a*np.exp(b)\n",
    "\n",
    "def sine(a, b):\n",
    "    return a*np.sin(b)\n",
    "\n",
    "# A general function that multiplies an arbitrary number of matrices\n",
    "# is 28% slower than directly multiplying the factors.\n",
    "# The function multiply_list is not used, just leaving it here for reference\n",
    "def multiply_list(l):\n",
    "    return reduce(lambda x, y: x*y, l) \n",
    "\n",
    "def multiply3(a, b, c):\n",
    "    return a*b*c\n",
    "\n",
    "def multiply5(a, b, c, d, e):\n",
    "    return a*b*c*d*e\n",
    "\n",
    "def exponential_sine(a, b, c):\n",
    "    return a*np.exp(b)*np.sin(c)"
   ]
  },
  {
   "cell_type": "markdown",
   "metadata": {},
   "source": [
    "## Helper function with numpexp"
   ]
  },
  {
   "cell_type": "code",
   "execution_count": 30,
   "metadata": {},
   "outputs": [],
   "source": [
    "def ne_multiply(a,b):\n",
    "    return ne.evaluate(\"a*b\")\n",
    "\n",
    "def ne_exponential(a, b):\n",
    "    return ne.evaluate(\"a*exp(b)\")\n",
    "\n",
    "def ne_sine(a, b):\n",
    "    return ne.evaluate(\"a*sin(b)\")\n",
    "\n",
    "def ne_multiply3(a, b, c):\n",
    "    return ne.evaluate(\"a*b*c\")\n",
    "\n",
    "def ne_multiply5(a, b, c, d, e):\n",
    "    return ne.evaluate(\"a*b*c*d*e\")\n",
    "\n",
    "def ne_exponential_sine(a, b, c):\n",
    "    return ne.evaluate(\"a*exp(b)*sin(c)\")\n"
   ]
  },
  {
   "cell_type": "markdown",
   "metadata": {},
   "source": [
    "## Helper functions for numba\n",
    "NOTE: For numba solutions, having a solution empty vector speeds up around 10%\n",
    "```\n",
    "r0 = np.empty((S1, S2), dtype=np.int16)\n",
    "r0 = multicpu(a, b)\n",
    "```\n",
    "source: https://devblogs.nvidia.com/numba-python-cuda-acceleration/"
   ]
  },
  {
   "cell_type": "code",
   "execution_count": 31,
   "metadata": {},
   "outputs": [],
   "source": [
    "@vectorize([\"int16(int16, int16)\"], target=\"cpu\")\n",
    "def multicpu(a, b):\n",
    "    return a * b\n",
    "\n",
    "@vectorize([\"int16(int16, int16)\"], target=\"cuda\")\n",
    "def multicuda(a, b):\n",
    "    return a * b\n",
    "\n",
    "@vectorize([\"float32(float32, float32)\"], target=\"cpu\")\n",
    "def multfcpu(a, b):\n",
    "    return a * b\n",
    "\n",
    "@vectorize([\"float32(float32, float32)\"], target=\"cuda\")\n",
    "def multfcuda(a, b):\n",
    "    return a * b\n",
    "\n",
    "@vectorize([\"float32(float32, float32)\"], target=\"cpu\")\n",
    "def expcpu(a, b):\n",
    "    return a*math.exp(b)\n",
    "\n",
    "@vectorize([\"float32(float32, float32)\"], target=\"cuda\")\n",
    "def expcuda(a, b):\n",
    "    return a*math.exp(b)\n",
    "\n",
    "@vectorize([\"float32(float32, float32)\"], target=\"cpu\")\n",
    "def sincpu(a, b):\n",
    "    return a*math.sin(b)\n",
    "\n",
    "@vectorize([\"float32(float32, float32)\"], target=\"cuda\")\n",
    "def sincuda(a, b):\n",
    "    return a*math.sin(b)\n",
    "\n",
    "@vectorize([\"float32(float32, float32, float32)\"], target=\"cpu\")\n",
    "def multfcpu3(a, b, c):\n",
    "    return a * b * c\n",
    "\n",
    "@vectorize([\"float32(float32, float32, float32)\"], target=\"cuda\")\n",
    "def multfcuda3(a, b, c):\n",
    "    return a * b * c\n",
    "\n",
    "@vectorize([\"float32(float32, float32, float32, float32, float32)\"], target=\"cpu\")\n",
    "def multfcpu5(a, b, c, d, e):\n",
    "    return a * b * c * d * e\n",
    "\n",
    "@vectorize([\"float32(float32, float32, float32, float32, float32)\"], target=\"cuda\")\n",
    "def multfcuda5(a, b, c, d, e):\n",
    "    return a * b * c * d * e\n",
    "\n",
    "@vectorize([\"float32(float32, float32, float32)\"], target=\"cpu\")\n",
    "def expsincpu(a, b, c):\n",
    "    return a*math.exp(b)*math.sin(c)\n",
    "\n",
    "@vectorize([\"float32(float32, float32, float32)\"], target=\"cuda\")\n",
    "def expsincuda(a, b, c):\n",
    "    return a*math.exp(b)*math.sin(c)"
   ]
  },
  {
   "cell_type": "markdown",
   "metadata": {},
   "source": [
    "## Data"
   ]
  },
  {
   "cell_type": "code",
   "execution_count": 39,
   "metadata": {},
   "outputs": [],
   "source": [
    "def factors_int(s1=100, s2=100):\n",
    "    a = np.random.randint(1, 5, (s1, s2), dtype=np.int16)\n",
    "    b = np.random.randint(1, 10, (s1, s2), dtype=np.int16)\n",
    "    return a, b\n",
    "\n",
    "def factors_float(s1=100, s2=100):\n",
    "    a = np.random.randn(s1, s2).astype(np.float32)\n",
    "    b = np.random.randn(s1, s2).astype(np.float32)\n",
    "    return a, b\n",
    "\n",
    "def factors_float3(s1=100, s2=100):\n",
    "    a = np.random.randn(s1, s2).astype(np.float32)\n",
    "    b = np.random.randn(s1, s2).astype(np.float32)\n",
    "    c = np.random.uniform(low=0, high=10, size=(s1,s2)).astype(np.float32)\n",
    "    return a, b, c\n",
    "\n",
    "def factors_float5(s1=100, s2=100):\n",
    "    a = np.random.randn(s1, s2).astype(np.float32)\n",
    "    b = np.random.randn(s1, s2).astype(np.float32)\n",
    "    c = np.random.uniform(low=0, high=10, size=(s1,s2)).astype(np.float32)\n",
    "    d = np.random.uniform(low=5, high=15, size=(s1,s2)).astype(np.float32)\n",
    "    e = np.random.uniform(low=0, high=30, size=(s1,s2)).astype(np.float32)\n",
    "    return a, b, c, d, e"
   ]
  },
  {
   "cell_type": "markdown",
   "metadata": {},
   "source": [
    "## Benchmark"
   ]
  },
  {
   "cell_type": "code",
   "execution_count": 6,
   "metadata": {},
   "outputs": [],
   "source": [
    "size_combinations=[\n",
    "    (100, 100),\n",
    "    (1000, 1000),\n",
    "    (10000, 10000),\n",
    "    (100000, 10000),\n",
    "    (100000, 100000)\n",
    "]"
   ]
  },
  {
   "cell_type": "code",
   "execution_count": 7,
   "metadata": {},
   "outputs": [],
   "source": [
    "columns = [\"n_processors\",\n",
    "           \"cpu_memory\",\n",
    "           \"gpu_name\",\n",
    "           \"gpu_memory\",\n",
    "           \"data_type\",\n",
    "           \"size1\",\n",
    "           \"size2\",\n",
    "           \"operation\",\n",
    "           \"numpy\",\n",
    "           \"numexpr\",\n",
    "           \"numba_cpu\",\n",
    "           \"numba_gpu\"]"
   ]
  },
  {
   "cell_type": "code",
   "execution_count": 11,
   "metadata": {},
   "outputs": [],
   "source": [
    "n_processors = get_number_processors()\n",
    "cpu_memory = get_ram_memory(units=\"Gb\")\n",
    "gpu_name = get_gpu_name()[0]\n",
    "gpu_memory = get_total_gpu_memory(units=\"Gb\")[0]\n",
    "header = [n_processors, cpu_memory, gpu_name, gpu_memory]"
   ]
  },
  {
   "cell_type": "code",
   "execution_count": 47,
   "metadata": {},
   "outputs": [
    {
     "data": {
      "text/plain": [
       "'Tesla-V100-PCIE-16GB'"
      ]
     },
     "execution_count": 47,
     "metadata": {},
     "output_type": "execute_result"
    }
   ],
   "source": [
    "filebase = gpu_name.replace(\" \", \"-\")\n",
    "filebase"
   ]
  },
  {
   "cell_type": "code",
   "execution_count": 52,
   "metadata": {},
   "outputs": [],
   "source": [
    "folder = \"data\"\n",
    "os.makedirs(folder, exist_ok=True)"
   ]
  },
  {
   "cell_type": "markdown",
   "metadata": {},
   "source": [
    "#### Integer matrix multiplication"
   ]
  },
  {
   "cell_type": "code",
   "execution_count": 24,
   "metadata": {
    "scrolled": true
   },
   "outputs": [
    {
     "name": "stdout",
     "output_type": "stream",
     "text": [
      "2.15 µs ± 19.1 ns per loop (mean ± std. dev. of 7 runs, 100000 loops each)\n",
      "460 µs ± 10.2 µs per loop (mean ± std. dev. of 7 runs, 1000 loops each)\n",
      "2.08 µs ± 25.6 ns per loop (mean ± std. dev. of 7 runs, 100000 loops each)\n",
      "1.46 ms ± 16.1 µs per loop (mean ± std. dev. of 7 runs, 1000 loops each)\n",
      "214 µs ± 3.11 µs per loop (mean ± std. dev. of 7 runs, 1000 loops each)\n",
      "588 µs ± 13.8 µs per loop (mean ± std. dev. of 7 runs, 1000 loops each)\n",
      "211 µs ± 703 ns per loop (mean ± std. dev. of 7 runs, 1000 loops each)\n",
      "4.15 ms ± 61.2 µs per loop (mean ± std. dev. of 7 runs, 100 loops each)\n",
      "87.5 ms ± 541 µs per loop (mean ± std. dev. of 7 runs, 10 loops each)\n",
      "21.3 ms ± 402 µs per loop (mean ± std. dev. of 7 runs, 10 loops each)\n",
      "87.2 ms ± 541 µs per loop (mean ± std. dev. of 7 runs, 10 loops each)\n",
      "134 ms ± 2.78 ms per loop (mean ± std. dev. of 7 runs, 10 loops each)\n",
      "875 ms ± 1.57 ms per loop (mean ± std. dev. of 7 runs, 1 loop each)\n",
      "180 ms ± 2.77 ms per loop (mean ± std. dev. of 7 runs, 1 loop each)\n",
      "871 ms ± 5.73 ms per loop (mean ± std. dev. of 7 runs, 1 loop each)\n",
      "1.29 s ± 48.2 ms per loop (mean ± std. dev. of 7 runs, 1 loop each)\n",
      "8.81 s ± 21.2 ms per loop (mean ± std. dev. of 7 runs, 1 loop each)\n",
      "1.74 s ± 24 ms per loop (mean ± std. dev. of 7 runs, 1 loop each)\n",
      "8.8 s ± 32 ms per loop (mean ± std. dev. of 7 runs, 1 loop each)\n",
      "OOM for size (100000,100000)\n"
     ]
    }
   ],
   "source": [
    "df = pd.DataFrame(columns=columns)\n",
    "for s1, s2 in size_combinations:\n",
    "    a, b = factors_int(s1, s2)\n",
    "    operation = \"a*b\"\n",
    "    r1 = %timeit -o multiply(a,b)\n",
    "    r2 = %timeit -o ne_multiply(a,b)\n",
    "    r3 = %timeit -o multicpu(a,b)\n",
    "    try:\n",
    "        r4 = %timeit -o multicuda(a,b)\n",
    "    except: # in case of Out Of Memory (OOM)\n",
    "        r4 = AttributeDict()\n",
    "        r4[\"average\"] = \"OOM\"\n",
    "        print(\"OOM for size ({},{})\".format(s1, s2))\n",
    "    row = header + [type(a[0,0]), s1, s2, operation, r1.average, r2.average, r3.average, r4.average]\n",
    "    df.loc[len(df)] = row\n"
   ]
  },
  {
   "cell_type": "code",
   "execution_count": null,
   "metadata": {},
   "outputs": [],
   "source": [
    "filename = filebase + operation + \"_int\" + \".csv\"\n",
    "df.to_csv(os.path.join(folder, filename), index=False)\n",
    "df"
   ]
  },
  {
   "cell_type": "markdown",
   "metadata": {},
   "source": [
    "#### Float matrix multiplication"
   ]
  },
  {
   "cell_type": "code",
   "execution_count": 26,
   "metadata": {},
   "outputs": [
    {
     "name": "stdout",
     "output_type": "stream",
     "text": [
      "3.04 µs ± 18.2 ns per loop (mean ± std. dev. of 7 runs, 100000 loops each)\n",
      "455 µs ± 11.6 µs per loop (mean ± std. dev. of 7 runs, 1000 loops each)\n",
      "3.33 µs ± 5.3 ns per loop (mean ± std. dev. of 7 runs, 100000 loops each)\n",
      "1.35 ms ± 5.95 µs per loop (mean ± std. dev. of 7 runs, 1000 loops each)\n",
      "42.6 µs ± 1.69 µs per loop (mean ± std. dev. of 7 runs, 10000 loops each)\n",
      "576 µs ± 17 µs per loop (mean ± std. dev. of 7 runs, 1000 loops each)\n",
      "423 µs ± 2.26 µs per loop (mean ± std. dev. of 7 runs, 1000 loops each)\n",
      "4.81 ms ± 32.9 µs per loop (mean ± std. dev. of 7 runs, 100 loops each)\n",
      "24.5 ms ± 1.25 ms per loop (mean ± std. dev. of 7 runs, 10 loops each)\n",
      "31.8 ms ± 242 µs per loop (mean ± std. dev. of 7 runs, 10 loops each)\n",
      "177 ms ± 413 µs per loop (mean ± std. dev. of 7 runs, 10 loops each)\n",
      "262 ms ± 36.8 ms per loop (mean ± std. dev. of 7 runs, 1 loop each)\n",
      "216 ms ± 11.4 ms per loop (mean ± std. dev. of 7 runs, 1 loop each)\n",
      "251 ms ± 8.49 ms per loop (mean ± std. dev. of 7 runs, 1 loop each)\n",
      "1.81 s ± 4.62 ms per loop (mean ± std. dev. of 7 runs, 1 loop each)\n",
      "2.68 s ± 62.4 ms per loop (mean ± std. dev. of 7 runs, 1 loop each)\n",
      "1.98 s ± 24.2 ms per loop (mean ± std. dev. of 7 runs, 1 loop each)\n",
      "2.42 s ± 86.9 ms per loop (mean ± std. dev. of 7 runs, 1 loop each)\n",
      "20.7 s ± 5.35 s per loop (mean ± std. dev. of 7 runs, 1 loop each)\n",
      "OOM for size (100000,100000)\n"
     ]
    }
   ],
   "source": [
    "df = pd.DataFrame(columns=columns)\n",
    "for s1, s2 in size_combinations:\n",
    "    a, b = factors_float(s1, s2)\n",
    "    operation = \"a*b\"\n",
    "    r1 = %timeit -o multiply(a,b)\n",
    "    r2 = %timeit -o ne_multiply(a,b)\n",
    "    r3 = %timeit -o multfcpu(a,b)\n",
    "    try:\n",
    "        r4 = %timeit -o multfcuda(a,b)\n",
    "    except: # in case of Out Of Memory (OOM)\n",
    "        r4 = AttributeDict()\n",
    "        r4[\"average\"] = \"OOM\"\n",
    "        print(\"OOM for size ({},{})\".format(s1, s2))\n",
    "    row = header + [type(a[0,0]), s1, s2, operation, r1.average, r2.average, r3.average, r4.average]\n",
    "    df.loc[len(df)] = row"
   ]
  },
  {
   "cell_type": "code",
   "execution_count": null,
   "metadata": {},
   "outputs": [],
   "source": [
    "filename = filebase + operation + \"_float\" + \".csv\"\n",
    "df.to_csv(os.path.join(folder, filename), index=False)\n",
    "df"
   ]
  },
  {
   "cell_type": "markdown",
   "metadata": {},
   "source": [
    "#### Exponential matrix multiplication"
   ]
  },
  {
   "cell_type": "code",
   "execution_count": 25,
   "metadata": {},
   "outputs": [
    {
     "name": "stdout",
     "output_type": "stream",
     "text": [
      "3.04 µs ± 19.2 ns per loop (mean ± std. dev. of 7 runs, 100000 loops each)\n",
      "451 µs ± 16.3 µs per loop (mean ± std. dev. of 7 runs, 1000 loops each)\n",
      "3.39 µs ± 29.1 ns per loop (mean ± std. dev. of 7 runs, 100000 loops each)\n",
      "1.44 ms ± 6.81 µs per loop (mean ± std. dev. of 7 runs, 1000 loops each)\n",
      "41.7 µs ± 1.04 µs per loop (mean ± std. dev. of 7 runs, 10000 loops each)\n",
      "562 µs ± 10.3 µs per loop (mean ± std. dev. of 7 runs, 1000 loops each)\n",
      "426 µs ± 6.44 µs per loop (mean ± std. dev. of 7 runs, 1000 loops each)\n",
      "4.76 ms ± 70.9 µs per loop (mean ± std. dev. of 7 runs, 100 loops each)\n",
      "23.9 ms ± 511 µs per loop (mean ± std. dev. of 7 runs, 10 loops each)\n",
      "31.9 ms ± 205 µs per loop (mean ± std. dev. of 7 runs, 10 loops each)\n",
      "175 ms ± 834 µs per loop (mean ± std. dev. of 7 runs, 10 loops each)\n",
      "256 ms ± 37.6 ms per loop (mean ± std. dev. of 7 runs, 1 loop each)\n",
      "231 ms ± 11.1 ms per loop (mean ± std. dev. of 7 runs, 1 loop each)\n",
      "270 ms ± 7.59 ms per loop (mean ± std. dev. of 7 runs, 1 loop each)\n",
      "1.81 s ± 14 ms per loop (mean ± std. dev. of 7 runs, 1 loop each)\n",
      "2.65 s ± 62.6 ms per loop (mean ± std. dev. of 7 runs, 1 loop each)\n",
      "2.12 s ± 139 ms per loop (mean ± std. dev. of 7 runs, 1 loop each)\n",
      "2.42 s ± 65.2 ms per loop (mean ± std. dev. of 7 runs, 1 loop each)\n",
      "20.5 s ± 5.02 s per loop (mean ± std. dev. of 7 runs, 1 loop each)\n",
      "OOM for size (100000,100000)\n"
     ]
    }
   ],
   "source": [
    "df = pd.DataFrame(columns=columns)\n",
    "for s1, s2 in size_combinations:\n",
    "    a, b = factors_float(s1, s2)\n",
    "    operation = \"a*exp(b)\"\n",
    "    r1 = %timeit -o multiply(a,b)\n",
    "    r2 = %timeit -o ne_multiply(a,b)\n",
    "    r3 = %timeit -o multfcpu(a,b)\n",
    "    try:\n",
    "        r4 = %timeit -o multfcuda(a,b)\n",
    "    except: # in case of Out Of Memory (OOM)\n",
    "        r4 = AttributeDict()\n",
    "        r4[\"average\"] = \"OOM\"\n",
    "        print(\"OOM for size ({},{})\".format(s1, s2))        \n",
    "    row = header + [type(a[0,0]), s1, s2, operation, r1.average, r2.average, r3.average, r4.average]\n",
    "    df.loc[len(df)] = row"
   ]
  },
  {
   "cell_type": "code",
   "execution_count": null,
   "metadata": {},
   "outputs": [],
   "source": [
    "filename = filebase + operation + \".csv\"\n",
    "df.to_csv(os.path.join(folder, filename), index=False)\n",
    "df"
   ]
  },
  {
   "cell_type": "markdown",
   "metadata": {},
   "source": [
    "#### Sine matrix multiplication"
   ]
  },
  {
   "cell_type": "code",
   "execution_count": 27,
   "metadata": {},
   "outputs": [
    {
     "name": "stdout",
     "output_type": "stream",
     "text": [
      "3.03 µs ± 9.6 ns per loop (mean ± std. dev. of 7 runs, 100000 loops each)\n",
      "476 µs ± 24.3 µs per loop (mean ± std. dev. of 7 runs, 1000 loops each)\n",
      "3.26 µs ± 2.99 ns per loop (mean ± std. dev. of 7 runs, 100000 loops each)\n",
      "1.37 ms ± 7.02 µs per loop (mean ± std. dev. of 7 runs, 1000 loops each)\n",
      "42 µs ± 915 ns per loop (mean ± std. dev. of 7 runs, 10000 loops each)\n",
      "576 µs ± 13.3 µs per loop (mean ± std. dev. of 7 runs, 1000 loops each)\n",
      "421 µs ± 1.74 µs per loop (mean ± std. dev. of 7 runs, 1000 loops each)\n",
      "4.69 ms ± 24.1 µs per loop (mean ± std. dev. of 7 runs, 100 loops each)\n",
      "25.3 ms ± 3.65 ms per loop (mean ± std. dev. of 7 runs, 10 loops each)\n",
      "32.5 ms ± 253 µs per loop (mean ± std. dev. of 7 runs, 10 loops each)\n",
      "175 ms ± 814 µs per loop (mean ± std. dev. of 7 runs, 10 loops each)\n",
      "255 ms ± 38.5 ms per loop (mean ± std. dev. of 7 runs, 1 loop each)\n",
      "226 ms ± 265 µs per loop (mean ± std. dev. of 7 runs, 1 loop each)\n",
      "287 ms ± 9.16 ms per loop (mean ± std. dev. of 7 runs, 1 loop each)\n",
      "1.74 s ± 7.11 ms per loop (mean ± std. dev. of 7 runs, 1 loop each)\n",
      "2.6 s ± 23.5 ms per loop (mean ± std. dev. of 7 runs, 1 loop each)\n",
      "2.55 s ± 621 ms per loop (mean ± std. dev. of 7 runs, 1 loop each)\n",
      "2.36 s ± 64.9 ms per loop (mean ± std. dev. of 7 runs, 1 loop each)\n",
      "20.7 s ± 4.9 s per loop (mean ± std. dev. of 7 runs, 1 loop each)\n",
      "OOM for size (100000,100000)\n"
     ]
    }
   ],
   "source": [
    "df = pd.DataFrame(columns=columns)\n",
    "for s1, s2 in size_combinations:\n",
    "    a, b = factors_float(s1, s2)\n",
    "    operation = \"a*sin(b)\"\n",
    "    r1 = %timeit -o multiply(a,b)\n",
    "    r2 = %timeit -o ne_multiply(a,b)\n",
    "    r3 = %timeit -o multfcpu(a,b)\n",
    "    try:\n",
    "        r4 = %timeit -o multfcuda(a,b)\n",
    "    except: # in case of Out Of Memory (OOM)\n",
    "        r4 = AttributeDict()\n",
    "        r4[\"average\"] = \"OOM\"\n",
    "        print(\"OOM for size ({},{})\".format(s1, s2))        \n",
    "    row = header + [type(a[0,0]), s1, s2, operation, r1.average, r2.average, r3.average, r4.average]\n",
    "    df.loc[len(df)] = row"
   ]
  },
  {
   "cell_type": "code",
   "execution_count": null,
   "metadata": {},
   "outputs": [],
   "source": [
    "filename = filebase + operation + \".csv\"\n",
    "df.to_csv(os.path.join(folder, filename), index=False)\n",
    "df"
   ]
  },
  {
   "cell_type": "markdown",
   "metadata": {},
   "source": [
    "#### Multiple matrix multiplication (3 factors)"
   ]
  },
  {
   "cell_type": "code",
   "execution_count": 42,
   "metadata": {},
   "outputs": [
    {
     "name": "stdout",
     "output_type": "stream",
     "text": [
      "6.66 µs ± 9.51 ns per loop (mean ± std. dev. of 7 runs, 100000 loops each)\n",
      "461 µs ± 35.5 µs per loop (mean ± std. dev. of 7 runs, 1000 loops each)\n",
      "5.36 µs ± 43.7 ns per loop (mean ± std. dev. of 7 runs, 100000 loops each)\n",
      "1.82 ms ± 4.06 µs per loop (mean ± std. dev. of 7 runs, 1000 loops each)\n",
      "84.5 µs ± 2.91 µs per loop (mean ± std. dev. of 7 runs, 10000 loops each)\n",
      "620 µs ± 17.2 µs per loop (mean ± std. dev. of 7 runs, 1000 loops each)\n",
      "529 µs ± 1.36 µs per loop (mean ± std. dev. of 7 runs, 1000 loops each)\n",
      "6.22 ms ± 39.8 µs per loop (mean ± std. dev. of 7 runs, 100 loops each)\n",
      "38.4 ms ± 1.4 ms per loop (mean ± std. dev. of 7 runs, 10 loops each)\n",
      "43.2 ms ± 516 µs per loop (mean ± std. dev. of 7 runs, 10 loops each)\n",
      "211 ms ± 5.35 ms per loop (mean ± std. dev. of 7 runs, 1 loop each)\n",
      "318 ms ± 39.9 ms per loop (mean ± std. dev. of 7 runs, 1 loop each)\n",
      "367 ms ± 5.14 ms per loop (mean ± std. dev. of 7 runs, 1 loop each)\n",
      "409 ms ± 6.44 ms per loop (mean ± std. dev. of 7 runs, 1 loop each)\n",
      "2.06 s ± 8.51 ms per loop (mean ± std. dev. of 7 runs, 1 loop each)\n",
      "3.2 s ± 6.2 ms per loop (mean ± std. dev. of 7 runs, 1 loop each)\n",
      "3.71 s ± 161 ms per loop (mean ± std. dev. of 7 runs, 1 loop each)\n",
      "3.63 s ± 110 ms per loop (mean ± std. dev. of 7 runs, 1 loop each)\n",
      "26.2 s ± 7.23 s per loop (mean ± std. dev. of 7 runs, 1 loop each)\n",
      "OOM for size (100000,100000)\n"
     ]
    }
   ],
   "source": [
    "df = pd.DataFrame(columns=columns)\n",
    "for s1, s2 in size_combinations:\n",
    "    a, b, c = factors_float3(s1, s2)\n",
    "    operation = \"a*b*c\"\n",
    "    r1 = %timeit -o multiply3(a,b,c)\n",
    "    r2 = %timeit -o ne_multiply3(a,b,c)\n",
    "    r3 = %timeit -o multfcpu3(a,b,c)\n",
    "    try:\n",
    "        r4 = %timeit -o multfcuda3(a,b,c)\n",
    "    except: # in case of Out Of Memory (OOM)\n",
    "        r4 = AttributeDict()\n",
    "        r4[\"average\"] = \"OOM\"\n",
    "        print(\"OOM for size ({},{})\".format(s1, s2))\n",
    "    row = header + [type(a[0,0]), s1, s2, operation, r1.average, r2.average, r3.average, r4.average]\n",
    "    df.loc[len(df)] = row"
   ]
  },
  {
   "cell_type": "code",
   "execution_count": null,
   "metadata": {},
   "outputs": [],
   "source": [
    "filename = filebase + operation + \".csv\"\n",
    "df.to_csv(os.path.join(folder, filename), index=False)\n",
    "df"
   ]
  },
  {
   "cell_type": "markdown",
   "metadata": {},
   "source": [
    "#### Multiple matrix multiplication (5 factors)"
   ]
  },
  {
   "cell_type": "code",
   "execution_count": 44,
   "metadata": {},
   "outputs": [
    {
     "name": "stdout",
     "output_type": "stream",
     "text": [
      "14.5 µs ± 36.7 ns per loop (mean ± std. dev. of 7 runs, 100000 loops each)\n",
      "495 µs ± 22.4 µs per loop (mean ± std. dev. of 7 runs, 1000 loops each)\n",
      "8.77 µs ± 58.9 ns per loop (mean ± std. dev. of 7 runs, 100000 loops each)\n",
      "2.68 ms ± 216 µs per loop (mean ± std. dev. of 7 runs, 1 loop each)\n",
      "158 µs ± 1.48 µs per loop (mean ± std. dev. of 7 runs, 10000 loops each)\n",
      "668 µs ± 14 µs per loop (mean ± std. dev. of 7 runs, 1000 loops each)\n",
      "732 µs ± 4.28 µs per loop (mean ± std. dev. of 7 runs, 1000 loops each)\n",
      "10.3 ms ± 58.4 µs per loop (mean ± std. dev. of 7 runs, 100 loops each)\n",
      "68.2 ms ± 2.72 ms per loop (mean ± std. dev. of 7 runs, 10 loops each)\n",
      "65.9 ms ± 1.34 ms per loop (mean ± std. dev. of 7 runs, 10 loops each)\n",
      "338 ms ± 2.79 ms per loop (mean ± std. dev. of 7 runs, 1 loop each)\n",
      "486 ms ± 41 ms per loop (mean ± std. dev. of 7 runs, 1 loop each)\n",
      "654 ms ± 29 ms per loop (mean ± std. dev. of 7 runs, 1 loop each)\n",
      "581 ms ± 26.6 ms per loop (mean ± std. dev. of 7 runs, 1 loop each)\n",
      "2.85 s ± 6.48 ms per loop (mean ± std. dev. of 7 runs, 1 loop each)\n",
      "OOM for size (100000,10000)\n"
     ]
    },
    {
     "ename": "MemoryError",
     "evalue": "",
     "output_type": "error",
     "traceback": [
      "\u001b[0;31m---------------------------------------------------------------------------\u001b[0m",
      "\u001b[0;31mMemoryError\u001b[0m                               Traceback (most recent call last)",
      "\u001b[0;32m<ipython-input-44-aba38e6dd697>\u001b[0m in \u001b[0;36m<module>\u001b[0;34m\u001b[0m\n\u001b[1;32m      1\u001b[0m \u001b[0;32mfor\u001b[0m \u001b[0ms1\u001b[0m\u001b[0;34m,\u001b[0m \u001b[0ms2\u001b[0m \u001b[0;32min\u001b[0m \u001b[0msize_combinations\u001b[0m\u001b[0;34m:\u001b[0m\u001b[0;34m\u001b[0m\u001b[0;34m\u001b[0m\u001b[0m\n\u001b[0;32m----> 2\u001b[0;31m     \u001b[0ma\u001b[0m\u001b[0;34m,\u001b[0m \u001b[0mb\u001b[0m\u001b[0;34m,\u001b[0m \u001b[0mc\u001b[0m\u001b[0;34m,\u001b[0m \u001b[0md\u001b[0m\u001b[0;34m,\u001b[0m \u001b[0me\u001b[0m \u001b[0;34m=\u001b[0m \u001b[0mfactors_float5\u001b[0m\u001b[0;34m(\u001b[0m\u001b[0ms1\u001b[0m\u001b[0;34m,\u001b[0m \u001b[0ms2\u001b[0m\u001b[0;34m)\u001b[0m\u001b[0;34m\u001b[0m\u001b[0;34m\u001b[0m\u001b[0m\n\u001b[0m\u001b[1;32m      3\u001b[0m     \u001b[0moperation\u001b[0m \u001b[0;34m=\u001b[0m \u001b[0;34m\"a * b * c * d * e\"\u001b[0m\u001b[0;34m\u001b[0m\u001b[0;34m\u001b[0m\u001b[0m\n\u001b[1;32m      4\u001b[0m     \u001b[0mr1\u001b[0m \u001b[0;34m=\u001b[0m \u001b[0mget_ipython\u001b[0m\u001b[0;34m(\u001b[0m\u001b[0;34m)\u001b[0m\u001b[0;34m.\u001b[0m\u001b[0mrun_line_magic\u001b[0m\u001b[0;34m(\u001b[0m\u001b[0;34m'timeit'\u001b[0m\u001b[0;34m,\u001b[0m \u001b[0;34m'-o multiply5(a,b,c,d,e)'\u001b[0m\u001b[0;34m)\u001b[0m\u001b[0;34m\u001b[0m\u001b[0;34m\u001b[0m\u001b[0m\n\u001b[1;32m      5\u001b[0m     \u001b[0mr2\u001b[0m \u001b[0;34m=\u001b[0m \u001b[0mget_ipython\u001b[0m\u001b[0;34m(\u001b[0m\u001b[0;34m)\u001b[0m\u001b[0;34m.\u001b[0m\u001b[0mrun_line_magic\u001b[0m\u001b[0;34m(\u001b[0m\u001b[0;34m'timeit'\u001b[0m\u001b[0;34m,\u001b[0m \u001b[0;34m'-o ne_multiply5(a,b,c,d,e)'\u001b[0m\u001b[0;34m)\u001b[0m\u001b[0;34m\u001b[0m\u001b[0;34m\u001b[0m\u001b[0m\n",
      "\u001b[0;32m<ipython-input-39-cf23e28c4542>\u001b[0m in \u001b[0;36mfactors_float5\u001b[0;34m(s1, s2)\u001b[0m\n\u001b[1;32m     19\u001b[0m     \u001b[0mb\u001b[0m \u001b[0;34m=\u001b[0m \u001b[0mnp\u001b[0m\u001b[0;34m.\u001b[0m\u001b[0mrandom\u001b[0m\u001b[0;34m.\u001b[0m\u001b[0mrandn\u001b[0m\u001b[0;34m(\u001b[0m\u001b[0ms1\u001b[0m\u001b[0;34m,\u001b[0m \u001b[0ms2\u001b[0m\u001b[0;34m)\u001b[0m\u001b[0;34m.\u001b[0m\u001b[0mastype\u001b[0m\u001b[0;34m(\u001b[0m\u001b[0mnp\u001b[0m\u001b[0;34m.\u001b[0m\u001b[0mfloat32\u001b[0m\u001b[0;34m)\u001b[0m\u001b[0;34m\u001b[0m\u001b[0;34m\u001b[0m\u001b[0m\n\u001b[1;32m     20\u001b[0m     \u001b[0mc\u001b[0m \u001b[0;34m=\u001b[0m \u001b[0mnp\u001b[0m\u001b[0;34m.\u001b[0m\u001b[0mrandom\u001b[0m\u001b[0;34m.\u001b[0m\u001b[0muniform\u001b[0m\u001b[0;34m(\u001b[0m\u001b[0mlow\u001b[0m\u001b[0;34m=\u001b[0m\u001b[0;36m0\u001b[0m\u001b[0;34m,\u001b[0m \u001b[0mhigh\u001b[0m\u001b[0;34m=\u001b[0m\u001b[0;36m10\u001b[0m\u001b[0;34m,\u001b[0m \u001b[0msize\u001b[0m\u001b[0;34m=\u001b[0m\u001b[0;34m(\u001b[0m\u001b[0ms1\u001b[0m\u001b[0;34m,\u001b[0m\u001b[0ms2\u001b[0m\u001b[0;34m)\u001b[0m\u001b[0;34m)\u001b[0m\u001b[0;34m.\u001b[0m\u001b[0mastype\u001b[0m\u001b[0;34m(\u001b[0m\u001b[0mnp\u001b[0m\u001b[0;34m.\u001b[0m\u001b[0mfloat32\u001b[0m\u001b[0;34m)\u001b[0m\u001b[0;34m\u001b[0m\u001b[0;34m\u001b[0m\u001b[0m\n\u001b[0;32m---> 21\u001b[0;31m     \u001b[0md\u001b[0m \u001b[0;34m=\u001b[0m \u001b[0mnp\u001b[0m\u001b[0;34m.\u001b[0m\u001b[0mrandom\u001b[0m\u001b[0;34m.\u001b[0m\u001b[0muniform\u001b[0m\u001b[0;34m(\u001b[0m\u001b[0mlow\u001b[0m\u001b[0;34m=\u001b[0m\u001b[0;36m5\u001b[0m\u001b[0;34m,\u001b[0m \u001b[0mhigh\u001b[0m\u001b[0;34m=\u001b[0m\u001b[0;36m15\u001b[0m\u001b[0;34m,\u001b[0m \u001b[0msize\u001b[0m\u001b[0;34m=\u001b[0m\u001b[0;34m(\u001b[0m\u001b[0ms1\u001b[0m\u001b[0;34m,\u001b[0m\u001b[0ms2\u001b[0m\u001b[0;34m)\u001b[0m\u001b[0;34m)\u001b[0m\u001b[0;34m.\u001b[0m\u001b[0mastype\u001b[0m\u001b[0;34m(\u001b[0m\u001b[0mnp\u001b[0m\u001b[0;34m.\u001b[0m\u001b[0mfloat32\u001b[0m\u001b[0;34m)\u001b[0m\u001b[0;34m\u001b[0m\u001b[0;34m\u001b[0m\u001b[0m\n\u001b[0m\u001b[1;32m     22\u001b[0m     \u001b[0me\u001b[0m \u001b[0;34m=\u001b[0m \u001b[0mnp\u001b[0m\u001b[0;34m.\u001b[0m\u001b[0mrandom\u001b[0m\u001b[0;34m.\u001b[0m\u001b[0muniform\u001b[0m\u001b[0;34m(\u001b[0m\u001b[0mlow\u001b[0m\u001b[0;34m=\u001b[0m\u001b[0;36m0\u001b[0m\u001b[0;34m,\u001b[0m \u001b[0mhigh\u001b[0m\u001b[0;34m=\u001b[0m\u001b[0;36m30\u001b[0m\u001b[0;34m,\u001b[0m \u001b[0msize\u001b[0m\u001b[0;34m=\u001b[0m\u001b[0;34m(\u001b[0m\u001b[0ms1\u001b[0m\u001b[0;34m,\u001b[0m\u001b[0ms2\u001b[0m\u001b[0;34m)\u001b[0m\u001b[0;34m)\u001b[0m\u001b[0;34m.\u001b[0m\u001b[0mastype\u001b[0m\u001b[0;34m(\u001b[0m\u001b[0mnp\u001b[0m\u001b[0;34m.\u001b[0m\u001b[0mfloat32\u001b[0m\u001b[0;34m)\u001b[0m\u001b[0;34m\u001b[0m\u001b[0;34m\u001b[0m\u001b[0m\n\u001b[1;32m     23\u001b[0m     \u001b[0;32mreturn\u001b[0m \u001b[0ma\u001b[0m\u001b[0;34m,\u001b[0m \u001b[0mb\u001b[0m\u001b[0;34m,\u001b[0m \u001b[0mc\u001b[0m\u001b[0;34m,\u001b[0m \u001b[0md\u001b[0m\u001b[0;34m,\u001b[0m \u001b[0me\u001b[0m\u001b[0;34m\u001b[0m\u001b[0;34m\u001b[0m\u001b[0m\n",
      "\u001b[0;31mMemoryError\u001b[0m: "
     ]
    }
   ],
   "source": [
    "df = pd.DataFrame(columns=columns)\n",
    "for s1, s2 in size_combinations:\n",
    "    a, b, c, d, e = factors_float5(s1, s2)\n",
    "    operation = \"a*b*c*d*e\"\n",
    "    r1 = %timeit -o multiply5(a,b,c,d,e)\n",
    "    r2 = %timeit -o ne_multiply5(a,b,c,d,e)\n",
    "    r3 = %timeit -o multfcpu5(a,b,c,d,e)\n",
    "    try:\n",
    "        r4 = %timeit -o multfcuda5(a,b,c,d,e)\n",
    "    except: # in case of Out Of Memory (OOM)\n",
    "        r4 = AttributeDict()\n",
    "        r4[\"average\"] = \"OOM\"\n",
    "        print(\"OOM for size ({},{})\".format(s1, s2))\n",
    "    row = header + [type(a[0,0]), s1, s2, operation, r1.average, r2.average, r3.average, r4.average]\n",
    "    df.loc[len(df)] = row"
   ]
  },
  {
   "cell_type": "code",
   "execution_count": null,
   "metadata": {},
   "outputs": [],
   "source": [
    "filename = filebase + operation + \".csv\"\n",
    "df.to_csv(os.path.join(folder, filename), index=False)\n",
    "df"
   ]
  },
  {
   "cell_type": "markdown",
   "metadata": {},
   "source": [
    "#### Exponential sine matrix multiplication"
   ]
  },
  {
   "cell_type": "code",
   "execution_count": 45,
   "metadata": {},
   "outputs": [
    {
     "name": "stdout",
     "output_type": "stream",
     "text": [
      "28 µs ± 316 ns per loop (mean ± std. dev. of 7 runs, 10000 loops each)\n",
      "472 µs ± 8.91 µs per loop (mean ± std. dev. of 7 runs, 1000 loops each)\n",
      "249 µs ± 3.26 µs per loop (mean ± std. dev. of 7 runs, 1000 loops each)\n",
      "1.85 ms ± 16 µs per loop (mean ± std. dev. of 7 runs, 1000 loops each)\n",
      "590 µs ± 58.2 µs per loop (mean ± std. dev. of 7 runs, 1000 loops each)\n",
      "1.36 ms ± 9.41 µs per loop (mean ± std. dev. of 7 runs, 1000 loops each)\n",
      "25 ms ± 391 µs per loop (mean ± std. dev. of 7 runs, 10 loops each)\n",
      "7.12 ms ± 89.4 µs per loop (mean ± std. dev. of 7 runs, 100 loops each)\n",
      "57.3 ms ± 665 µs per loop (mean ± std. dev. of 7 runs, 10 loops each)\n",
      "100 ms ± 379 µs per loop (mean ± std. dev. of 7 runs, 10 loops each)\n",
      "2.57 s ± 18.5 ms per loop (mean ± std. dev. of 7 runs, 1 loop each)\n",
      "347 ms ± 39.9 ms per loop (mean ± std. dev. of 7 runs, 1 loop each)\n",
      "556 ms ± 20 ms per loop (mean ± std. dev. of 7 runs, 1 loop each)\n",
      "982 ms ± 14.7 ms per loop (mean ± std. dev. of 7 runs, 1 loop each)\n",
      "25.7 s ± 217 ms per loop (mean ± std. dev. of 7 runs, 1 loop each)\n",
      "3.38 s ± 24.1 ms per loop (mean ± std. dev. of 7 runs, 1 loop each)\n"
     ]
    },
    {
     "ename": "MemoryError",
     "evalue": "",
     "output_type": "error",
     "traceback": [
      "\u001b[0;31m---------------------------------------------------------------------------\u001b[0m",
      "\u001b[0;31mMemoryError\u001b[0m                               Traceback (most recent call last)",
      "\u001b[0;32m<ipython-input-45-810794d23589>\u001b[0m in \u001b[0;36m<module>\u001b[0;34m\u001b[0m\n\u001b[1;32m      1\u001b[0m \u001b[0;32mfor\u001b[0m \u001b[0ms1\u001b[0m\u001b[0;34m,\u001b[0m \u001b[0ms2\u001b[0m \u001b[0;32min\u001b[0m \u001b[0msize_combinations\u001b[0m\u001b[0;34m:\u001b[0m\u001b[0;34m\u001b[0m\u001b[0;34m\u001b[0m\u001b[0m\n\u001b[0;32m----> 2\u001b[0;31m     \u001b[0ma\u001b[0m\u001b[0;34m,\u001b[0m \u001b[0mb\u001b[0m\u001b[0;34m,\u001b[0m \u001b[0mc\u001b[0m \u001b[0;34m=\u001b[0m \u001b[0mfactors_float3\u001b[0m\u001b[0;34m(\u001b[0m\u001b[0ms1\u001b[0m\u001b[0;34m,\u001b[0m \u001b[0ms2\u001b[0m\u001b[0;34m)\u001b[0m\u001b[0;34m\u001b[0m\u001b[0;34m\u001b[0m\u001b[0m\n\u001b[0m\u001b[1;32m      3\u001b[0m     \u001b[0moperation\u001b[0m \u001b[0;34m=\u001b[0m \u001b[0;34m\"a * exp(b) * sin(c)\"\u001b[0m\u001b[0;34m\u001b[0m\u001b[0;34m\u001b[0m\u001b[0m\n\u001b[1;32m      4\u001b[0m     \u001b[0mr1\u001b[0m \u001b[0;34m=\u001b[0m \u001b[0mget_ipython\u001b[0m\u001b[0;34m(\u001b[0m\u001b[0;34m)\u001b[0m\u001b[0;34m.\u001b[0m\u001b[0mrun_line_magic\u001b[0m\u001b[0;34m(\u001b[0m\u001b[0;34m'timeit'\u001b[0m\u001b[0;34m,\u001b[0m \u001b[0;34m'-o exponential_sine(a,b,c)'\u001b[0m\u001b[0;34m)\u001b[0m\u001b[0;34m\u001b[0m\u001b[0;34m\u001b[0m\u001b[0m\n\u001b[1;32m      5\u001b[0m     \u001b[0mr2\u001b[0m \u001b[0;34m=\u001b[0m \u001b[0mget_ipython\u001b[0m\u001b[0;34m(\u001b[0m\u001b[0;34m)\u001b[0m\u001b[0;34m.\u001b[0m\u001b[0mrun_line_magic\u001b[0m\u001b[0;34m(\u001b[0m\u001b[0;34m'timeit'\u001b[0m\u001b[0;34m,\u001b[0m \u001b[0;34m'-o ne_exponential_sine(a,b,c)'\u001b[0m\u001b[0;34m)\u001b[0m\u001b[0;34m\u001b[0m\u001b[0;34m\u001b[0m\u001b[0m\n",
      "\u001b[0;32m<ipython-input-39-cf23e28c4542>\u001b[0m in \u001b[0;36mfactors_float3\u001b[0;34m(s1, s2)\u001b[0m\n\u001b[1;32m     10\u001b[0m \u001b[0;34m\u001b[0m\u001b[0m\n\u001b[1;32m     11\u001b[0m \u001b[0;32mdef\u001b[0m \u001b[0mfactors_float3\u001b[0m\u001b[0;34m(\u001b[0m\u001b[0ms1\u001b[0m\u001b[0;34m=\u001b[0m\u001b[0;36m100\u001b[0m\u001b[0;34m,\u001b[0m \u001b[0ms2\u001b[0m\u001b[0;34m=\u001b[0m\u001b[0;36m100\u001b[0m\u001b[0;34m)\u001b[0m\u001b[0;34m:\u001b[0m\u001b[0;34m\u001b[0m\u001b[0;34m\u001b[0m\u001b[0m\n\u001b[0;32m---> 12\u001b[0;31m     \u001b[0ma\u001b[0m \u001b[0;34m=\u001b[0m \u001b[0mnp\u001b[0m\u001b[0;34m.\u001b[0m\u001b[0mrandom\u001b[0m\u001b[0;34m.\u001b[0m\u001b[0mrandn\u001b[0m\u001b[0;34m(\u001b[0m\u001b[0ms1\u001b[0m\u001b[0;34m,\u001b[0m \u001b[0ms2\u001b[0m\u001b[0;34m)\u001b[0m\u001b[0;34m.\u001b[0m\u001b[0mastype\u001b[0m\u001b[0;34m(\u001b[0m\u001b[0mnp\u001b[0m\u001b[0;34m.\u001b[0m\u001b[0mfloat32\u001b[0m\u001b[0;34m)\u001b[0m\u001b[0;34m\u001b[0m\u001b[0;34m\u001b[0m\u001b[0m\n\u001b[0m\u001b[1;32m     13\u001b[0m     \u001b[0mb\u001b[0m \u001b[0;34m=\u001b[0m \u001b[0mnp\u001b[0m\u001b[0;34m.\u001b[0m\u001b[0mrandom\u001b[0m\u001b[0;34m.\u001b[0m\u001b[0mrandn\u001b[0m\u001b[0;34m(\u001b[0m\u001b[0ms1\u001b[0m\u001b[0;34m,\u001b[0m \u001b[0ms2\u001b[0m\u001b[0;34m)\u001b[0m\u001b[0;34m.\u001b[0m\u001b[0mastype\u001b[0m\u001b[0;34m(\u001b[0m\u001b[0mnp\u001b[0m\u001b[0;34m.\u001b[0m\u001b[0mfloat32\u001b[0m\u001b[0;34m)\u001b[0m\u001b[0;34m\u001b[0m\u001b[0;34m\u001b[0m\u001b[0m\n\u001b[1;32m     14\u001b[0m     \u001b[0mc\u001b[0m \u001b[0;34m=\u001b[0m \u001b[0mnp\u001b[0m\u001b[0;34m.\u001b[0m\u001b[0mrandom\u001b[0m\u001b[0;34m.\u001b[0m\u001b[0muniform\u001b[0m\u001b[0;34m(\u001b[0m\u001b[0mlow\u001b[0m\u001b[0;34m=\u001b[0m\u001b[0;36m0\u001b[0m\u001b[0;34m,\u001b[0m \u001b[0mhigh\u001b[0m\u001b[0;34m=\u001b[0m\u001b[0;36m10\u001b[0m\u001b[0;34m,\u001b[0m \u001b[0msize\u001b[0m\u001b[0;34m=\u001b[0m\u001b[0;34m(\u001b[0m\u001b[0ms1\u001b[0m\u001b[0;34m,\u001b[0m\u001b[0ms2\u001b[0m\u001b[0;34m)\u001b[0m\u001b[0;34m)\u001b[0m\u001b[0;34m.\u001b[0m\u001b[0mastype\u001b[0m\u001b[0;34m(\u001b[0m\u001b[0mnp\u001b[0m\u001b[0;34m.\u001b[0m\u001b[0mfloat32\u001b[0m\u001b[0;34m)\u001b[0m\u001b[0;34m\u001b[0m\u001b[0;34m\u001b[0m\u001b[0m\n",
      "\u001b[0;31mMemoryError\u001b[0m: "
     ]
    }
   ],
   "source": [
    "df = pd.DataFrame(columns=columns)\n",
    "for s1, s2 in size_combinations:\n",
    "    a, b, c = factors_float3(s1, s2)\n",
    "    operation = \"a*exp(b)*sin(c)\"\n",
    "    r1 = %timeit -o exponential_sine(a,b,c)\n",
    "    r2 = %timeit -o ne_exponential_sine(a,b,c)\n",
    "    r3 = %timeit -o expsincpu(a,b,c)\n",
    "    try:\n",
    "        r4 = %timeit -o expsincuda(a,b,c)\n",
    "    except: # in case of Out Of Memory (OOM)\n",
    "        r4 = AttributeDict()\n",
    "        r4[\"average\"] = \"OOM\"\n",
    "        print(\"OOM for size ({},{})\".format(s1, s2))        \n",
    "    row = header + [type(a[0,0]), s1, s2, operation, r1.average, r2.average, r3.average, r4.average]\n",
    "    df.loc[len(df)] = row"
   ]
  },
  {
   "cell_type": "code",
   "execution_count": null,
   "metadata": {},
   "outputs": [],
   "source": [
    "filename = filebase + operation + \".csv\"\n",
    "df.to_csv(os.path.join(folder, filename), index=False)\n",
    "df"
   ]
  },
  {
   "cell_type": "code",
   "execution_count": null,
   "metadata": {},
   "outputs": [],
   "source": []
  }
 ],
 "metadata": {
  "kernelspec": {
   "display_name": "Python (benchmark)",
   "language": "python",
   "name": "benchmark"
  },
  "language_info": {
   "codemirror_mode": {
    "name": "ipython",
    "version": 3
   },
   "file_extension": ".py",
   "mimetype": "text/x-python",
   "name": "python",
   "nbconvert_exporter": "python",
   "pygments_lexer": "ipython3",
   "version": "3.6.7"
  }
 },
 "nbformat": 4,
 "nbformat_minor": 2
}
